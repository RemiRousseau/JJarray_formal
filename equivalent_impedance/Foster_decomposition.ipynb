{
 "cells": [
  {
   "cell_type": "code",
   "execution_count": 1,
   "id": "95271493",
   "metadata": {
    "pycharm": {
     "name": "#%%\n"
    }
   },
   "outputs": [],
   "source": [
    "import quick_eq_imp\n",
    "import analysis\n",
    "import numpy as np\n",
    "import sympy as sp\n",
    "import math\n",
    "import matplotlib.pyplot as plt\n",
    "from tqdm import tqdm"
   ]
  },
  {
   "cell_type": "code",
   "execution_count": 5,
   "id": "a9146a90",
   "metadata": {
    "pycharm": {
     "name": "#%%\n"
    }
   },
   "outputs": [
    {
     "name": "stdout",
     "output_type": "stream",
     "text": [
      "6.754745576155852e-05\n"
     ]
    }
   ],
   "source": [
    "mass_capa = True\n",
    "all_eqs = False\n",
    "fourier = True\n",
    "loss = False\n",
    "impedance = False\n",
    "messages = True\n",
    "\n",
    "N_jct = 16\n",
    "\n",
    "nu_transmon = 5 #in GHz\n",
    "l_j_0 = 15 #in nH\n",
    "C_0 = 1/(l_j_0*(2*np.pi*nu_transmon)**2) #in nF\n",
    "print(C_0)\n",
    "\n",
    "nu_0 = 15 #in GHz\n",
    "c_g = 1e-6 #in nF\n",
    "r = 1e5"
   ]
  },
  {
   "cell_type": "code",
   "execution_count": 4,
   "id": "1e647fdc",
   "metadata": {
    "scrolled": true,
    "pycharm": {
     "name": "#%%\n"
    }
   },
   "outputs": [
    {
     "ename": "TypeError",
     "evalue": "equivalent_impedance() got an unexpected keyword argument 'l_j_0'",
     "output_type": "error",
     "traceback": [
      "\u001B[1;31m---------------------------------------------------------------------------\u001B[0m",
      "\u001B[1;31mTypeError\u001B[0m                                 Traceback (most recent call last)",
      "Input \u001B[1;32mIn [4]\u001B[0m, in \u001B[0;36m<cell line: 1>\u001B[1;34m()\u001B[0m\n\u001B[1;32m----> 1\u001B[0m y_eqs \u001B[38;5;241m=\u001B[39m \u001B[43mquick_eq_imp\u001B[49m\u001B[38;5;241;43m.\u001B[39;49m\u001B[43mequivalent_impedance\u001B[49m\u001B[43m(\u001B[49m\u001B[43mN_jct\u001B[49m\u001B[43m,\u001B[49m\u001B[43m \u001B[49m\u001B[43mmass_capa\u001B[49m\u001B[43m \u001B[49m\u001B[38;5;241;43m=\u001B[39;49m\u001B[43m \u001B[49m\u001B[43mmass_capa\u001B[49m\u001B[43m,\u001B[49m\u001B[43m \u001B[49m\u001B[43mall_eqs\u001B[49m\u001B[43m \u001B[49m\u001B[38;5;241;43m=\u001B[39;49m\u001B[43m \u001B[49m\u001B[43mall_eqs\u001B[49m\u001B[43m,\u001B[49m\u001B[43m \u001B[49m\u001B[43mfourier\u001B[49m\u001B[43m \u001B[49m\u001B[38;5;241;43m=\u001B[39;49m\u001B[43m \u001B[49m\u001B[43mfourier\u001B[49m\u001B[43m,\u001B[49m\u001B[43m \u001B[49m\u001B[43mloss\u001B[49m\u001B[43m \u001B[49m\u001B[38;5;241;43m=\u001B[39;49m\u001B[43m \u001B[49m\u001B[43mloss\u001B[49m\u001B[43m,\u001B[49m\u001B[43m \u001B[49m\u001B[43mimpedance\u001B[49m\u001B[43m \u001B[49m\u001B[38;5;241;43m=\u001B[39;49m\u001B[43m \u001B[49m\u001B[43mimpedance\u001B[49m\u001B[43m,\u001B[49m\u001B[43m \u001B[49m\u001B[43ml_j_0\u001B[49m\u001B[43m \u001B[49m\u001B[38;5;241;43m=\u001B[39;49m\u001B[43m \u001B[49m\u001B[43ml_j_0\u001B[49m\u001B[43m,\u001B[49m\u001B[43m \u001B[49m\u001B[43mnu_0\u001B[49m\u001B[43m \u001B[49m\u001B[38;5;241;43m=\u001B[39;49m\u001B[43m \u001B[49m\u001B[43mnu_0\u001B[49m\u001B[43m,\u001B[49m\u001B[43m \u001B[49m\u001B[43mc_g\u001B[49m\u001B[43m \u001B[49m\u001B[38;5;241;43m=\u001B[39;49m\u001B[43m \u001B[49m\u001B[43mc_g\u001B[49m\u001B[43m,\u001B[49m\u001B[43m \u001B[49m\u001B[43mr\u001B[49m\u001B[43m \u001B[49m\u001B[38;5;241;43m=\u001B[39;49m\u001B[43m \u001B[49m\u001B[43mr\u001B[49m\u001B[43m,\u001B[49m\u001B[43m \u001B[49m\u001B[43mmessages\u001B[49m\u001B[43m \u001B[49m\u001B[38;5;241;43m=\u001B[39;49m\u001B[43m \u001B[49m\u001B[43mmessages\u001B[49m\u001B[43m)\u001B[49m\n",
      "\u001B[1;31mTypeError\u001B[0m: equivalent_impedance() got an unexpected keyword argument 'l_j_0'"
     ]
    }
   ],
   "source": [
    "y_eqs = quick_eq_imp.equivalent_impedance(N_jct, mass_capa = mass_capa, all_eqs = all_eqs, fourier = fourier, loss = loss, impedance = impedance, l_j_0 = l_j_0, nu_0 = nu_0, c_g = c_g, r = r, messages = messages)"
   ]
  },
  {
   "cell_type": "markdown",
   "id": "d4d29d7c",
   "metadata": {
    "pycharm": {
     "name": "#%% md\n"
    }
   },
   "source": [
    "## Foster decompo 1"
   ]
  },
  {
   "cell_type": "code",
   "execution_count": 18,
   "id": "10b9e1b2",
   "metadata": {
    "pycharm": {
     "name": "#%%\n"
    }
   },
   "outputs": [
    {
     "name": "stdout",
     "output_type": "stream",
     "text": [
      "      Real | Im\n",
      "f00 : 3.7372473543772142 | 3.2916100863055293 \n",
      "f01 : 14.595782986406812 | 0.0031393123614915897 \n",
      "f02 : 14.733420345180113 | 0.11930043492696564 \n",
      "f03 : 14.89269958345673 | 0.227036559776441 \n",
      "f04 : 15.069092007686976 | 0.20961666595397146 \n",
      "f05 : 15.184984291280683 | 0.08414198180967092 \n"
     ]
    }
   ],
   "source": [
    "freqs = analysis.circuit_resonances(y_eqs[0],C_0 = C_0,full = False)\n",
    "print(\"      Real | Im\")\n",
    "for i,el in enumerate(freqs):\n",
    "    print(f\"f{i:02d} : {el[0]} | {el[1]} \")\n",
    "    i+=1"
   ]
  },
  {
   "cell_type": "code",
   "execution_count": 19,
   "id": "d84d3026",
   "metadata": {
    "pycharm": {
     "name": "#%%\n"
    }
   },
   "outputs": [],
   "source": [
    "L_eq,C_eq,corr = analysis.foster_decompo(y_eqs[0],big_eq = True,display = False)"
   ]
  },
  {
   "cell_type": "code",
   "execution_count": 23,
   "id": "76c5d07b",
   "metadata": {
    "scrolled": false,
    "pycharm": {
     "name": "#%%\n"
    }
   },
   "outputs": [
    {
     "name": "stdout",
     "output_type": "stream",
     "text": [
      "L_eq = 14.916512386115983 | error : 0.5565840925601151 %\n",
      "C_eq = 8.554851891878301e-06 | 12.664950582412454 % of C_0\n",
      "\n",
      "f_tran = 5 GHz | f_eq0 = 4.723757256262972 GHz | error : 5.524854874740566 %\n",
      "\n",
      "f_tran = 5 GHz | w_root = 3.7372473543772142 GHz | error : 25.255052912455717 %\n",
      "\n",
      "L_corr_01 : 0.09149208 | C_corr_01 : 0.00130221 | f_p_01 = 14.58103283715884\n",
      "L_corr_02 : 0.02291758 | C_corr_02 : 0.00477769 | f_p_02 = 15.209913291570333\n",
      "L_corr_03 : 0.01883908 | C_corr_03 : 0.00613743 | f_p_03 = 14.801206534568939\n",
      "L_corr_04 : 0.01875746 | C_corr_04 : 0.00616413 | f_p_04 = 14.801206534571808\n",
      "L_corr_05 : 0.01542353 | C_corr_05 : 0.00715783 | f_p_05 = 15.147384751903363\n",
      "L_corr_06 : 0.01538314 | C_corr_06 : 0.00717662 | f_p_06 = 15.147384751869279\n",
      "L_corr_07 : 0.00686272 | C_corr_07 : 0.01715932 | f_p_07 = 14.66634636303935\n",
      "L_corr_08 : 0.0020966 | C_corr_08 : 0.05378534 | f_p_08 = 14.987526680165699\n",
      "L_corr_09 : 0.0019956 | C_corr_09 : 0.05650752 | f_p_09 = 14.987526680147791\n"
     ]
    }
   ],
   "source": [
    "print(f\"L_eq = {L_eq} | error : {abs(l_j_0-L_eq)/l_j_0*100} %\") \n",
    "print(f\"C_eq = {C_eq} | {abs(C_eq)/C_0*100} % of C_0\\n\")\n",
    "f_eq = 1/np.sqrt((C_0+C_eq)*L_eq)/2/np.pi\n",
    "print(f\"f_tran = {nu_transmon} GHz | f_eq0 = {f_eq} GHz | error : {abs(nu_transmon-f_eq)/nu_transmon*100} %\\n\")\n",
    "print(f\"f_tran = {nu_transmon} GHz | w_root = {freqs[0][0]} GHz | error : {abs(nu_transmon-freqs[0][0])/nu_transmon*100} %\\n\")\n",
    "for i in range(len(corr)):\n",
    "    print(f\"L_corr_{i+1:02d} : {round(corr[i][0],8)} | C_corr_{i+1:02d} : {round(corr[i][1],8)} | f_p_{i+1:02d} = {1/np.sqrt(corr[i][0]*corr[i][1])/2/np.pi}\")"
   ]
  },
  {
   "cell_type": "code",
   "execution_count": null,
   "id": "f0b86650",
   "metadata": {
    "pycharm": {
     "name": "#%%\n"
    }
   },
   "outputs": [],
   "source": []
  },
  {
   "cell_type": "markdown",
   "id": "2bfc5d61",
   "metadata": {
    "pycharm": {
     "name": "#%% md\n"
    }
   },
   "source": [
    "## Foster decompo 2"
   ]
  },
  {
   "cell_type": "code",
   "execution_count": 1,
   "id": "3aa09a3a",
   "metadata": {
    "pycharm": {
     "name": "#%%\n"
    }
   },
   "outputs": [
    {
     "ename": "NameError",
     "evalue": "name 'foster' is not defined",
     "output_type": "error",
     "traceback": [
      "\u001B[1;31m---------------------------------------------------------------------------\u001B[0m",
      "\u001B[1;31mNameError\u001B[0m                                 Traceback (most recent call last)",
      "Input \u001B[1;32mIn [1]\u001B[0m, in \u001B[0;36m<cell line: 1>\u001B[1;34m()\u001B[0m\n\u001B[1;32m----> 1\u001B[0m L_eq,C_eq,corr \u001B[38;5;241m=\u001B[39m \u001B[43mfoster\u001B[49m\u001B[38;5;241m.\u001B[39mfoster_decompo_2(y_eqs[\u001B[38;5;241m0\u001B[39m])\n",
      "\u001B[1;31mNameError\u001B[0m: name 'foster' is not defined"
     ]
    }
   ],
   "source": [
    "L_eq,C_eq,corr = analysis.foster_decompo_2(y_eqs[0])\n",
    "#freqs = analysis.circuit_resonances(y_eqs[0],C_0 = C_0)\n",
    "#freqs_corr = analysis.resonances_from_foster_2(L_eq,C_eq,corr,C_0 = C_0)"
   ]
  },
  {
   "cell_type": "code",
   "execution_count": 19,
   "id": "941f1eb5",
   "metadata": {
    "pycharm": {
     "name": "#%%\n"
    }
   },
   "outputs": [
    {
     "name": "stdout",
     "output_type": "stream",
     "text": [
      "\n",
      "---------------------------------\n",
      "\n",
      "C_eq = 0 | 0.0 % of C_0\n",
      "\n",
      "w_tran = 5.063696835418333 GHz | w_eq0 = inf GHz | error : inf %\n",
      "\n",
      "L_corr_01 : nan | C_corr_01 : nan\n",
      "L_corr_02 : 48.8247294 | C_corr_02 : 7.851e-05\n",
      "L_corr_03 : 53.97495043 | C_corr_03 : 7.209e-05\n",
      "L_corr_04 : 74.86266041 | C_corr_04 : 6.892e-05\n",
      "L_corr_05 : 57.29394414 | C_corr_05 : 6.791e-05\n",
      "L_corr_06 : 82.14720599 | C_corr_06 : 6.186e-05\n",
      "L_corr_07 : 79.94682114 | C_corr_07 : 6.094e-05\n",
      "L_corr_08 : 87.04180685 | C_corr_08 : 5.838e-05\n",
      "L_corr_09 : 83.49139773 | C_corr_09 : 5.835e-05\n",
      "L_corr_10 : 94.90595276 | C_corr_10 : 4.272e-05\n",
      "L_corr_11 : 110.61041718 | C_corr_11 : 4.149e-05\n",
      "L_corr_12 : 97.87525018 | C_corr_12 : 4.142e-05\n",
      "L_corr_13 : 111.96420142 | C_corr_13 : 4.098e-05\n",
      "L_corr_14 : 707.54634117 | C_corr_14 : 6.08e-06\n",
      "L_corr_15 : 2308.48835401 | C_corr_15 : 1.86e-06\n"
     ]
    },
    {
     "name": "stderr",
     "output_type": "stream",
     "text": [
      "C:\\Users\\rroussea\\AppData\\Local\\Temp\\ipykernel_800\\1589666811.py:3: RuntimeWarning: divide by zero encountered in double_scalars\n",
      "  w_tran, w_eq = 1/np.sqrt(C_0*l_j_0), 1/np.sqrt((C_0+C_eq)*L_eq)\n"
     ]
    }
   ],
   "source": [
    "print(\"\\n---------------------------------\\n\")\n",
    "print(f\"C_eq = {C_eq} | {abs(C_eq)/C_0*100} % of C_0\\n\")\n",
    "w_tran, w_eq = 1/np.sqrt(C_0*l_j_0), 1/np.sqrt((C_0+C_eq)*L_eq)\n",
    "print(f\"w_tran = {w_tran} GHz | w_eq0 = {w_eq} GHz | error : {abs(w_tran-w_eq)/w_tran*100} %\\n\")\n",
    "#print(f\"w_tran = {w_tran} GHz | w_root = {freqs[0]} GHz | error : {abs(w_tran-freqs[0])/w_tran*100} %\\n\")\n",
    "for i in range(len(corr)):\n",
    "    print(f\"L_corr_{i+1:02d} : {round(corr[i][0],8)} | C_corr_{i+1:02d} : {round(corr[i][1],8)}\" )"
   ]
  }
 ],
 "metadata": {
  "kernelspec": {
   "display_name": "Python 3 (ipykernel)",
   "language": "python",
   "name": "python3"
  },
  "language_info": {
   "codemirror_mode": {
    "name": "ipython",
    "version": 3
   },
   "file_extension": ".py",
   "mimetype": "text/x-python",
   "name": "python",
   "nbconvert_exporter": "python",
   "pygments_lexer": "ipython3",
   "version": "3.9.12"
  }
 },
 "nbformat": 4,
 "nbformat_minor": 5
}