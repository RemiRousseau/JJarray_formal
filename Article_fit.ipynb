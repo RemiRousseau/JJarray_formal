{
 "cells": [
  {
   "cell_type": "code",
   "execution_count": 1,
   "id": "0d06ced6",
   "metadata": {},
   "outputs": [],
   "source": [
    "import quick_eq_imp\n",
    "import analysis\n",
    "\n",
    "import matplotlib.pyplot as plt\n",
    "import numpy as np"
   ]
  },
  {
   "cell_type": "code",
   "execution_count": 2,
   "id": "26ca49a7",
   "metadata": {},
   "outputs": [],
   "source": [
    "article_theoretical_data = [4.594244648550308, 12.198592718375497, 15.737773992234818, 17.321951387118187, 18.19239720713732, 18.597365913114558, 18.847175581077835, 18.91083057103228, 19.005445033373665]"
   ]
  },
  {
   "cell_type": "code",
   "execution_count": 3,
   "id": "1f6eef20",
   "metadata": {},
   "outputs": [],
   "source": [
    "mass_capa = False\n",
    "all_eqs = False\n",
    "fourier = True\n",
    "loss = False\n",
    "impedance = False\n",
    "messages = True\n",
    "\n",
    "N_jct = 40\n",
    "\n",
    "nu_transmon = 5.25 #in GHz\n",
    "l_j_0 = 2*1.9*N_jct #in nH\n",
    "c_j_0 = 20e-6/N_jct\n",
    "\n",
    "C_0 = 1/(l_j_0*(2*np.pi*nu_transmon)**2) #in nF\n",
    "\n",
    "nu_0 = 18.25 #in GHz\n",
    "c_g = 0.02e-6 #in nF\n",
    "r = 1e5"
   ]
  },
  {
   "cell_type": "code",
   "execution_count": 4,
   "id": "ad2d4f09",
   "metadata": {},
   "outputs": [
    {
     "name": "stdout",
     "output_type": "stream",
     "text": [
      "Replacing with element's values..\n"
     ]
    },
    {
     "name": "stderr",
     "output_type": "stream",
     "text": [
      "100%|████████████████████████████████████████████████████████████████████████████████████| 1/1 [00:00<00:00,  1.45it/s]\n"
     ]
    }
   ],
   "source": [
    "y_eqs = quick_eq_imp.equivalent_impedance(N_jct = N_jct, mass_capa = mass_capa, all_eqs = all_eqs, fourier = fourier, loss = loss, impedance = impedance, l_j_0 = l_j_0, nu_0 = nu_0, c_g = c_g, r = r, messages = messages)"
   ]
  },
  {
   "cell_type": "code",
   "execution_count": 6,
   "id": "d6b2a673",
   "metadata": {},
   "outputs": [
    {
     "data": {
      "image/png": "[encoded data removed]",
      "text/plain": [
       "<Figure size 432x288 with 1 Axes>"
      ]
     },
     "metadata": {
      "needs_background": "light"
     },
     "output_type": "display_data"
    },
    {
     "data": {
      "text/plain": [
       "<Figure size 432x288 with 0 Axes>"
      ]
     },
     "metadata": {},
     "output_type": "display_data"
    }
   ],
   "source": [
    "f_s = analysis.circuit_resonances(y_eqs[0],C_0=C_0,full = False)\n",
    "f_s_0 = analysis.circuit_resonances(y_eqs[0],C_0=0,full = False)\n",
    "plt.plot([el[0] for el in f_s],\"+\",label=f\"Zeros of Y_eq (C_0 = {round(C_0*10**6,2)} fF)\")\n",
    "plt.plot([el[0] for el in f_s_0],\"+\",label=\"Zeros of Y_eq (C_0 = 0fF)\")\n",
    "plt.plot(article_theoretical_data,\"o\",label =\"Article_data\")\n",
    "plt.xlabel(\"Mode index\")\n",
    "plt.ylabel(\"Mode frequency (GHz)\")\n",
    "plt.legend()\n",
    "plt.show()\n",
    "plt.savefig(\"graphs/article_fit_fail.png\")"
   ]
  },
  {
   "cell_type": "code",
   "execution_count": null,
   "id": "a4988a73",
   "metadata": {},
   "outputs": [],
   "source": []
  },
  {
   "cell_type": "code",
   "execution_count": null,
   "id": "28df383c",
   "metadata": {},
   "outputs": [],
   "source": []
  }
 ],
 "metadata": {
  "kernelspec": {
   "display_name": "Python 3 (ipykernel)",
   "language": "python",
   "name": "python3"
  },
  "language_info": {
   "codemirror_mode": {
    "name": "ipython",
    "version": 3
   },
   "file_extension": ".py",
   "mimetype": "text/x-python",
   "name": "python",
   "nbconvert_exporter": "python",
   "pygments_lexer": "ipython3",
   "version": "3.9.12"
  }
 },
 "nbformat": 4,
 "nbformat_minor": 5
}
