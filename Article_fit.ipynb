{
 "cells": [
  {
   "cell_type": "code",
   "execution_count": 2,
   "id": "932fd759",
   "metadata": {},
   "outputs": [],
   "source": [
    "import quick_eq_imp\n",
    "import analysis\n",
    "\n",
    "import matplotlib.pyplot as plt\n",
    "import numpy as np"
   ]
  },
  {
   "cell_type": "code",
   "execution_count": 3,
   "id": "1e0348ce",
   "metadata": {},
   "outputs": [],
   "source": [
    "article_theoretical_data = [4.38820638820639,11.795249795249795,15.031941031941033,16.33906633906634,16.992628992628994,17.45945945945946,17.615069615069615,17.77067977067977,17.895167895167894]"
   ]
  },
  {
   "cell_type": "code",
   "execution_count": 23,
   "id": "eadc56f3",
   "metadata": {},
   "outputs": [],
   "source": [
    "mass_capa = True\n",
    "all_eqs = False\n",
    "fourier = True\n",
    "loss = False\n",
    "impedance = False\n",
    "messages = True\n",
    "\n",
    "N_jct = 20\n",
    "\n",
    "nu_transmon = 6 #in GHz\n",
    "l_j_0 = 2*1.9*N_jct #in nH\n",
    "c_j_0 = 20e-6/N_jct\n",
    "\n",
    "C_0 = 1/(l_j_0*(2*np.pi*nu_transmon)**2) #in nF\n",
    "\n",
    "nu_0 = 18.25 #in GHz\n",
    "c_g = 0.02e-6 #in nF\n",
    "r = 1e5"
   ]
  },
  {
   "cell_type": "code",
   "execution_count": 24,
   "id": "d6d76a96",
   "metadata": {},
   "outputs": [
    {
     "name": "stdout",
     "output_type": "stream",
     "text": [
      "Replacing with element's values..\n"
     ]
    },
    {
     "name": "stderr",
     "output_type": "stream",
     "text": [
      "100%|████████████████████████████████████████████████████████████████████████████████████| 1/1 [00:00<00:00,  3.95it/s]\n"
     ]
    }
   ],
   "source": [
    "y_eqs = quick_eq_imp.equivalent_impedance(N_jct = N_jct, mass_capa = mass_capa, all_eqs = all_eqs, fourier = fourier, loss = loss, impedance = impedance, messages = messages)"
   ]
  },
  {
   "cell_type": "code",
   "execution_count": 25,
   "id": "a645696d",
   "metadata": {},
   "outputs": [
    {
     "data": {
      "image/png": "[encoded data removed]",
      "text/plain": [
       "<Figure size 432x288 with 1 Axes>"
      ]
     },
     "metadata": {
      "needs_background": "light"
     },
     "output_type": "display_data"
    }
   ],
   "source": [
    "L_j0_val = 1.9*20\n",
    "C_j0_val = 40e-6/20\n",
    "C_g_val = 1.10e-06\n",
    "C_0_val = 3.5e-6\n",
    "params = analysis.create_param(L_j0_val,C_j0_val,C_g_val,C_0_val)\n",
    "f_s = analysis.circuit_resonances(y_eqs[0],params = params,full = False)\n",
    "plt.plot([el[0] for el in f_s][:9],\"o-\",label=f\"Zeros of Y_eq (C_0 = {round(C_0*1e6,2)} fF)\")\n",
    "plt.plot(article_theoretical_data,\"+-\",label =\"Article_data\")\n",
    "plt.xlabel(\"Mode index\")\n",
    "plt.ylabel(\"Mode frequency (GHz)\")\n",
    "plt.legend()\n",
    "plt.show()\n",
    "#plt.savefig(\"graphs/article_fit_sucess.png\")"
   ]
  },
  {
   "cell_type": "code",
   "execution_count": null,
   "id": "2656ab54",
   "metadata": {},
   "outputs": [],
   "source": []
  },
  {
   "cell_type": "code",
   "execution_count": null,
   "id": "d436ed21",
   "metadata": {},
   "outputs": [],
   "source": []
  }
 ],
 "metadata": {
  "kernelspec": {
   "display_name": "Python 3 (ipykernel)",
   "language": "python",
   "name": "python3"
  },
  "language_info": {
   "codemirror_mode": {
    "name": "ipython",
    "version": 3
   },
   "file_extension": ".py",
   "mimetype": "text/x-python",
   "name": "python",
   "nbconvert_exporter": "python",
   "pygments_lexer": "ipython3",
   "version": "3.9.12"
  }
 },
 "nbformat": 4,
 "nbformat_minor": 5
}
