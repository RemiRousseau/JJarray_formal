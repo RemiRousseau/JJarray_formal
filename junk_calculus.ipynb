{
 "cells": [
  {
   "cell_type": "code",
   "execution_count": 2,
   "outputs": [],
   "source": [
    "import sympy as sp"
   ],
   "metadata": {
    "collapsed": false,
    "pycharm": {
     "name": "#%%\n"
    }
   }
  },
  {
   "cell_type": "code",
   "execution_count": 29,
   "outputs": [],
   "source": [
    "zsng,zsnd,zpn,zp,zs = sp.symbols(\"Z_sng Z_snd Z_pn Z_p Z_s\")"
   ],
   "metadata": {
    "collapsed": false,
    "pycharm": {
     "name": "#%%\n"
    }
   }
  },
  {
   "cell_type": "code",
   "execution_count": 4,
   "outputs": [],
   "source": [
    "dn = zsnd+zpn+zp\n",
    "za = zsnd*zpn/dn\n",
    "zb = zsnd*zp/dn\n",
    "zc = zpn*zp/dn"
   ],
   "metadata": {
    "collapsed": false,
    "pycharm": {
     "name": "#%%\n"
    }
   }
  },
  {
   "cell_type": "code",
   "execution_count": 27,
   "outputs": [],
   "source": [
    "z_simpl = (zb+zsnd)*(zc+zpn)/(zb+zsnd+zc+zpn)\n",
    "z_simpl = sp.factor(z_simpl +za)"
   ],
   "metadata": {
    "collapsed": false,
    "pycharm": {
     "name": "#%%\n"
    }
   }
  },
  {
   "cell_type": "code",
   "execution_count": 32,
   "outputs": [
    {
     "data": {
      "text/plain": "2*Z_pn*Z_snd/(Z_pn + Z_snd) + 2*Z_sng",
      "text/latex": "$\\displaystyle \\frac{2 Z_{pn} Z_{snd}}{Z_{pn} + Z_{snd}} + 2 Z_{sng}$"
     },
     "execution_count": 32,
     "metadata": {},
     "output_type": "execute_result"
    }
   ],
   "source": [
    "zeq = 2*zsng + z_simpl\n",
    "zeq"
   ],
   "metadata": {
    "collapsed": false,
    "pycharm": {
     "name": "#%%\n"
    }
   }
  },
  {
   "cell_type": "code",
   "execution_count": 45,
   "outputs": [
    {
     "data": {
      "text/plain": "2*Z_p*Z_pn*(Z_p*Z_s + 2*Z_p*Z_snd + Z_pn*Z_s + Z_s*Z_snd)/((Z_p + Z_pn + Z_snd)*(4*Z_p*Z_pn + Z_p*Z_s + Z_pn*Z_s + Z_s*Z_snd)) + 2*Z_pn*Z_snd/(Z_p + Z_pn + Z_snd) + 2*Z_sng",
      "text/latex": "$\\displaystyle \\frac{2 Z_{p} Z_{pn} \\left(Z_{p} Z_{s} + 2 Z_{p} Z_{snd} + Z_{pn} Z_{s} + Z_{s} Z_{snd}\\right)}{\\left(Z_{p} + Z_{pn} + Z_{snd}\\right) \\left(4 Z_{p} Z_{pn} + Z_{p} Z_{s} + Z_{pn} Z_{s} + Z_{s} Z_{snd}\\right)} + \\frac{2 Z_{pn} Z_{snd}}{Z_{p} + Z_{pn} + Z_{snd}} + 2 Z_{sng}$"
     },
     "execution_count": 45,
     "metadata": {},
     "output_type": "execute_result"
    }
   ],
   "source": [
    "z_simpl_2 = 2*zc*(2*zb+zs)/(2*zc+2*zc+zs)\n",
    "sp.factor(z_simpl_2)+(2*za+2*zsng)"
   ],
   "metadata": {
    "collapsed": false,
    "pycharm": {
     "name": "#%%\n"
    }
   }
  },
  {
   "cell_type": "code",
   "execution_count": 46,
   "outputs": [
    {
     "data": {
      "text/plain": "2*Z_s",
      "text/latex": "$\\displaystyle 2 Z_{s}$"
     },
     "execution_count": 46,
     "metadata": {},
     "output_type": "execute_result"
    }
   ],
   "source": [
    "za = zs+2*zp\n",
    "zc = (zs**2+2*zp*zs)/zp\n",
    "sp.factor(zc*2*za/(zc+2*za))"
   ],
   "metadata": {
    "collapsed": false,
    "pycharm": {
     "name": "#%%\n"
    }
   }
  },
  {
   "cell_type": "code",
   "execution_count": 9,
   "outputs": [],
   "source": [
    "import sympy as sp\n",
    "import numpy as np\n",
    "import matplotlib.pyplot as plt"
   ],
   "metadata": {
    "collapsed": false,
    "pycharm": {
     "name": "#%%\n"
    }
   }
  },
  {
   "cell_type": "code",
   "execution_count": 60,
   "outputs": [],
   "source": [
    "vin, iin, iout, ik, N, yc, n = sp.symbols(\"V_in I_in I_out ik N Y_c n\")\n",
    "vm = vin/(1-sp.exp(ik*N))\n",
    "vp = vin/(1-sp.exp(-ik*N))\n",
    "\n",
    "im = (-iin*sp.exp(-ik*N) + iout*sp.exp(-ik))/(2*sp.sinh(ik*(N-1))) - yc*(N-1)*vin/(sp.exp(ik)+sp.exp(ik*N))\n",
    "ip = (iin*sp.exp(ik*N) - iout*sp.exp(ik))/(2*sp.sinh(ik*(N-1))) + yc*(N-1)*vin/(sp.exp(-ik)+sp.exp(-ik*N))\n",
    "\n",
    "vn = vp*sp.exp(-ik*n)+vm*sp.exp(ik*n)\n",
    "i_n = ip*sp.exp(-ik*n)+im*sp.exp(ik*n)"
   ],
   "metadata": {
    "collapsed": false,
    "pycharm": {
     "name": "#%%\n"
    }
   }
  },
  {
   "cell_type": "code",
   "execution_count": 64,
   "outputs": [],
   "source": [
    "expr1 = ip/vp+im/vm\n",
    "expr2 = ip/vp-im/vm"
   ],
   "metadata": {
    "collapsed": false,
    "pycharm": {
     "name": "#%%\n"
    }
   }
  },
  {
   "cell_type": "code",
   "execution_count": 67,
   "outputs": [
    {
     "data": {
      "text/plain": "(exp(N*ik) - 1)*(I_in*exp(2*ik) + I_in*exp(ik*(N + 1)) + I_in*exp(ik*(N + 2)) + I_in*exp(ik*(2*N + 1)) - I_out*exp(3*ik) - I_out*exp(2*N*ik) - I_out*exp(ik*(N + 1)) - I_out*exp(ik*(N + 2)) + 2*N*V_in*Y_c*exp(ik*(N + 1))*sinh(ik*(N - 1)) + 2*N*V_in*Y_c*exp(ik*(N + 2))*sinh(ik*(N - 1)) - 2*V_in*Y_c*exp(ik*(N + 1))*sinh(ik*(N - 1)) - 2*V_in*Y_c*exp(ik*(N + 2))*sinh(ik*(N - 1)))*exp(-ik*(N + 1))/(2*V_in*(exp(ik) + exp(N*ik))*sinh(ik*(N - 1)))",
      "text/latex": "$\\displaystyle \\frac{\\left(e^{N ik} - 1\\right) \\left(I_{in} e^{2 ik} + I_{in} e^{ik \\left(N + 1\\right)} + I_{in} e^{ik \\left(N + 2\\right)} + I_{in} e^{ik \\left(2 N + 1\\right)} - I_{out} e^{3 ik} - I_{out} e^{2 N ik} - I_{out} e^{ik \\left(N + 1\\right)} - I_{out} e^{ik \\left(N + 2\\right)} + 2 N V_{in} Y_{c} e^{ik \\left(N + 1\\right)} \\sinh{\\left(ik \\left(N - 1\\right) \\right)} + 2 N V_{in} Y_{c} e^{ik \\left(N + 2\\right)} \\sinh{\\left(ik \\left(N - 1\\right) \\right)} - 2 V_{in} Y_{c} e^{ik \\left(N + 1\\right)} \\sinh{\\left(ik \\left(N - 1\\right) \\right)} - 2 V_{in} Y_{c} e^{ik \\left(N + 2\\right)} \\sinh{\\left(ik \\left(N - 1\\right) \\right)}\\right) e^{- ik \\left(N + 1\\right)}}{2 V_{in} \\left(e^{ik} + e^{N ik}\\right) \\sinh{\\left(ik \\left(N - 1\\right) \\right)}}$"
     },
     "execution_count": 67,
     "metadata": {},
     "output_type": "execute_result"
    }
   ],
   "source": [
    "expr1 = sp.simplify(expr1)\n",
    "expr1"
   ],
   "metadata": {
    "collapsed": false,
    "pycharm": {
     "name": "#%%\n"
    }
   }
  },
  {
   "cell_type": "code",
   "execution_count": 31,
   "outputs": [],
   "source": [
    "import numpy as np\n",
    "import matplotlib.pyplot as plt\n",
    "from scipy.optimize import curve_fit"
   ],
   "metadata": {
    "collapsed": false,
    "pycharm": {
     "name": "#%%\n"
    }
   }
  },
  {
   "cell_type": "code",
   "execution_count": 32,
   "outputs": [],
   "source": [
    "def lorentzian(_w, _wp, _width):\n",
    "    return 1/(1+(2*(_w-_wp)/_width)**2)"
   ],
   "metadata": {
    "collapsed": false,
    "pycharm": {
     "name": "#%%\n"
    }
   }
  },
  {
   "cell_type": "code",
   "execution_count": 57,
   "outputs": [
    {
     "name": "stdout",
     "output_type": "stream",
     "text": [
      "[1.02618787 0.00256542]\n"
     ]
    },
    {
     "data": {
      "text/plain": "[<matplotlib.lines.Line2D at 0x2650b477be0>]"
     },
     "execution_count": 57,
     "metadata": {},
     "output_type": "execute_result"
    },
    {
     "data": {
      "text/plain": "<Figure size 432x288 with 1 Axes>",
      "image/png": "[encoded data removed]"
     },
     "metadata": {
      "needs_background": "light"
     },
     "output_type": "display_data"
    }
   ],
   "source": [
    "npts = 1000\n",
    "ws = np.linspace(0, 10, npts)\n",
    "y_to_fit = lorentzian(ws, 5, 1)+np.random.random(npts)/20\n",
    "plt.plot(ws/2/np.pi, y_to_fit,\"+\")\n",
    "popt, pcov = curve_fit(lorentzian, ws, y_to_fit)\n",
    "print(popt)\n",
    "plt.plot(ws/2/np.pi, lorentzian(ws, *popt))"
   ],
   "metadata": {
    "collapsed": false,
    "pycharm": {
     "name": "#%%\n"
    }
   }
  },
  {
   "cell_type": "code",
   "execution_count": 85,
   "outputs": [
    {
     "data": {
      "text/plain": "[<matplotlib.lines.Line2D at 0x2650ce6c340>]"
     },
     "execution_count": 85,
     "metadata": {},
     "output_type": "execute_result"
    },
    {
     "data": {
      "text/plain": "<Figure size 432x288 with 1 Axes>",
      "image/png": "[encoded data removed]"
     },
     "metadata": {
      "needs_background": "light"
     },
     "output_type": "display_data"
    }
   ],
   "source": [
    "xdata = np.linspace(0, 10, 1000)*2*np.pi\n",
    "\n",
    "y = lorentzian(xdata, 5*2*np.pi, 6*2*np.pi)\n",
    "\n",
    "rng = np.random.default_rng()\n",
    "\n",
    "y_noise = 0.05 * rng.normal(size=xdata.size)\n",
    "\n",
    "ydata = y + y_noise\n",
    "\n",
    "plt.plot(xdata/2/np.pi, ydata, 'b-', label='data')\n",
    "\n",
    "popt, pcov = curve_fit(lorentzian, xdata, ydata)\n",
    "\n",
    "plt.plot(xdata/2/np.pi, lorentzian(xdata, *popt), 'r-')"
   ],
   "metadata": {
    "collapsed": false,
    "pycharm": {
     "name": "#%%\n"
    }
   }
  },
  {
   "cell_type": "code",
   "execution_count": null,
   "outputs": [],
   "source": [],
   "metadata": {
    "collapsed": false,
    "pycharm": {
     "name": "#%%\n"
    }
   }
  }
 ],
 "metadata": {
  "kernelspec": {
   "display_name": "Python 3",
   "language": "python",
   "name": "python3"
  },
  "language_info": {
   "codemirror_mode": {
    "name": "ipython",
    "version": 2
   },
   "file_extension": ".py",
   "mimetype": "text/x-python",
   "name": "python",
   "nbconvert_exporter": "python",
   "pygments_lexer": "ipython2",
   "version": "2.7.6"
  }
 },
 "nbformat": 4,
 "nbformat_minor": 0
}