{
 "cells": [
  {
   "cell_type": "code",
   "execution_count": 1,
   "id": "95271493",
   "metadata": {},
   "outputs": [],
   "source": [
    "import quick_eq_imp\n",
    "import foster\n",
    "import numpy as np\n",
    "import sympy as sp\n",
    "import math\n",
    "import matplotlib.pyplot as plt\n",
    "from tqdm import tqdm"
   ]
  },
  {
   "cell_type": "code",
   "execution_count": 2,
   "id": "954e6d24",
   "metadata": {
    "scrolled": false
   },
   "outputs": [],
   "source": [
    "# n_test = 5\n",
    "# vals = [[np.random.random()*5  for _ in range(2)]] + [[np.random.random()*10+50 for _ in range(2)] for _ in range(n_test-1)]\n",
    "# vals.sort(reverse = True)\n",
    "# s = sp.symbols(\"s\",real = True)\n",
    "# p = sum([el[0]*s/(1+el[0]*el[1]*s**2) for el in vals])\n",
    "# num,deno = sp.fraction(sp.factor(p))\n",
    "# corr = foster.partial_sum(num,deno)\n",
    "# diff = [abs(vals[i][0]-corr[i][0]) + abs(vals[i][1]-corr[i][1]) for i in range(n_test)]\n",
    "# for el in diff:\n",
    "#     print(el)"
   ]
  },
  {
   "cell_type": "code",
   "execution_count": 7,
   "id": "a9146a90",
   "metadata": {},
   "outputs": [],
   "source": [
    "# mass_capa = False\n",
    "# all_eqs = False\n",
    "# fourier = False\n",
    "# loss = False\n",
    "# impedance = False\n",
    "# messages = True\n",
    "\n",
    "# N_jct = 16\n",
    "\n",
    "# C_0 = 2.666e-3\n",
    "# l_j_0 = 15\n",
    "# nu_0 = 15\n",
    "# c_g = 4e-8\n",
    "# r = 1e9\n",
    "\n",
    "mass_capa = True\n",
    "all_eqs = False\n",
    "fourier = True\n",
    "loss = True\n",
    "impedance = False\n",
    "messages = True\n",
    "\n",
    "N_jct = 16\n",
    "\n",
    "C_0 = 2.6e-3\n",
    "l_j_0 = 15\n",
    "nu_0 = 15\n",
    "c_g = 1e-6\n",
    "r = 1e5"
   ]
  },
  {
   "cell_type": "code",
   "execution_count": 8,
   "id": "1e647fdc",
   "metadata": {
    "scrolled": true
   },
   "outputs": [
    {
     "name": "stdout",
     "output_type": "stream",
     "text": [
      "Replacing with element's values..\n"
     ]
    },
    {
     "name": "stderr",
     "output_type": "stream",
     "text": [
      "100%|████████████████████████████████████████████████████████████████████████████████████| 1/1 [00:00<00:00,  6.51it/s]\n"
     ]
    }
   ],
   "source": [
    "y_eqs = quick_eq_imp.equivalent_impedance(N_jct = N_jct,\n",
    "                                        mass_capa = mass_capa,\n",
    "                                        all_eqs = all_eqs,\n",
    "                                        fourier = fourier,\n",
    "                                        loss = loss, \n",
    "                                        impedance = impedance,\n",
    "                                        l_j_0 = l_j_0,\n",
    "                                        nu_0 = nu_0,\n",
    "                                        c_g = c_g,\n",
    "                                        r = r,\n",
    "                                        messages = messages)"
   ]
  },
  {
   "cell_type": "markdown",
   "id": "d4d29d7c",
   "metadata": {},
   "source": [
    "## Foster decompo 1"
   ]
  },
  {
   "cell_type": "code",
   "execution_count": 9,
   "id": "10b9e1b2",
   "metadata": {},
   "outputs": [
    {
     "ename": "NoConvergence",
     "evalue": "convergence to root failed; try n < 200 or maxsteps > 50",
     "output_type": "error",
     "traceback": [
      "\u001b[1;31m---------------------------------------------------------------------------\u001b[0m",
      "\u001b[1;31mNoConvergence\u001b[0m                             Traceback (most recent call last)",
      "File \u001b[1;32m~\\anaconda3\\envs\\drawpy\\lib\\site-packages\\sympy\\polys\\polytools.py:3698\u001b[0m, in \u001b[0;36mPoly.nroots\u001b[1;34m(f, n, maxsteps, cleanup)\u001b[0m\n\u001b[0;32m   3695\u001b[0m \u001b[38;5;28;01mtry\u001b[39;00m:\n\u001b[0;32m   3696\u001b[0m     \u001b[38;5;66;03m# We need to add extra precision to guard against losing accuracy.\u001b[39;00m\n\u001b[0;32m   3697\u001b[0m     \u001b[38;5;66;03m# 10 times the degree of the polynomial seems to work well.\u001b[39;00m\n\u001b[1;32m-> 3698\u001b[0m     roots \u001b[38;5;241m=\u001b[39m \u001b[43mmpmath\u001b[49m\u001b[38;5;241;43m.\u001b[39;49m\u001b[43mpolyroots\u001b[49m\u001b[43m(\u001b[49m\u001b[43mcoeffs\u001b[49m\u001b[43m,\u001b[49m\u001b[43m \u001b[49m\u001b[43mmaxsteps\u001b[49m\u001b[38;5;241;43m=\u001b[39;49m\u001b[43mmaxsteps\u001b[49m\u001b[43m,\u001b[49m\n\u001b[0;32m   3699\u001b[0m \u001b[43m            \u001b[49m\u001b[43mcleanup\u001b[49m\u001b[38;5;241;43m=\u001b[39;49m\u001b[43mcleanup\u001b[49m\u001b[43m,\u001b[49m\u001b[43m \u001b[49m\u001b[43merror\u001b[49m\u001b[38;5;241;43m=\u001b[39;49m\u001b[38;5;28;43;01mFalse\u001b[39;49;00m\u001b[43m,\u001b[49m\u001b[43m \u001b[49m\u001b[43mextraprec\u001b[49m\u001b[38;5;241;43m=\u001b[39;49m\u001b[43mf\u001b[49m\u001b[38;5;241;43m.\u001b[39;49m\u001b[43mdegree\u001b[49m\u001b[43m(\u001b[49m\u001b[43m)\u001b[49m\u001b[38;5;241;43m*\u001b[39;49m\u001b[38;5;241;43m10\u001b[39;49m\u001b[43m)\u001b[49m\n\u001b[0;32m   3701\u001b[0m     \u001b[38;5;66;03m# Mpmath puts real roots first, then complex ones (as does all_roots)\u001b[39;00m\n\u001b[0;32m   3702\u001b[0m     \u001b[38;5;66;03m# so we make sure this convention holds here, too.\u001b[39;00m\n",
      "File \u001b[1;32m~\\anaconda3\\envs\\drawpy\\lib\\site-packages\\mpmath\\calculus\\polynomials.py:196\u001b[0m, in \u001b[0;36mpolyroots\u001b[1;34m(ctx, coeffs, maxsteps, cleanup, extraprec, error, roots_init)\u001b[0m\n\u001b[0;32m    195\u001b[0m \u001b[38;5;28;01mif\u001b[39;00m \u001b[38;5;28mabs\u001b[39m(\u001b[38;5;28mmax\u001b[39m(err)) \u001b[38;5;241m>\u001b[39m\u001b[38;5;241m=\u001b[39m tol:\n\u001b[1;32m--> 196\u001b[0m     \u001b[38;5;28;01mraise\u001b[39;00m ctx\u001b[38;5;241m.\u001b[39mNoConvergence(\u001b[38;5;124m\"\u001b[39m\u001b[38;5;124mDidn\u001b[39m\u001b[38;5;124m'\u001b[39m\u001b[38;5;124mt converge in maxsteps=\u001b[39m\u001b[38;5;132;01m%d\u001b[39;00m\u001b[38;5;124m steps.\u001b[39m\u001b[38;5;124m\"\u001b[39m \\\n\u001b[0;32m    197\u001b[0m             \u001b[38;5;241m%\u001b[39m maxsteps)\n\u001b[0;32m    198\u001b[0m \u001b[38;5;66;03m# Remove small real or imaginary parts\u001b[39;00m\n",
      "\u001b[1;31mNoConvergence\u001b[0m: Didn't converge in maxsteps=50 steps.",
      "\nDuring handling of the above exception, another exception occurred:\n",
      "\u001b[1;31mNoConvergence\u001b[0m                             Traceback (most recent call last)",
      "File \u001b[1;32m~\\anaconda3\\envs\\drawpy\\lib\\site-packages\\sympy\\polys\\polytools.py:3708\u001b[0m, in \u001b[0;36mPoly.nroots\u001b[1;34m(f, n, maxsteps, cleanup)\u001b[0m\n\u001b[0;32m   3706\u001b[0m \u001b[38;5;28;01mtry\u001b[39;00m:\n\u001b[0;32m   3707\u001b[0m     \u001b[38;5;66;03m# If roots did not converge try again with more extra precision.\u001b[39;00m\n\u001b[1;32m-> 3708\u001b[0m     roots \u001b[38;5;241m=\u001b[39m \u001b[43mmpmath\u001b[49m\u001b[38;5;241;43m.\u001b[39;49m\u001b[43mpolyroots\u001b[49m\u001b[43m(\u001b[49m\u001b[43mcoeffs\u001b[49m\u001b[43m,\u001b[49m\u001b[43m \u001b[49m\u001b[43mmaxsteps\u001b[49m\u001b[38;5;241;43m=\u001b[39;49m\u001b[43mmaxsteps\u001b[49m\u001b[43m,\u001b[49m\n\u001b[0;32m   3709\u001b[0m \u001b[43m        \u001b[49m\u001b[43mcleanup\u001b[49m\u001b[38;5;241;43m=\u001b[39;49m\u001b[43mcleanup\u001b[49m\u001b[43m,\u001b[49m\u001b[43m \u001b[49m\u001b[43merror\u001b[49m\u001b[38;5;241;43m=\u001b[39;49m\u001b[38;5;28;43;01mFalse\u001b[39;49;00m\u001b[43m,\u001b[49m\u001b[43m \u001b[49m\u001b[43mextraprec\u001b[49m\u001b[38;5;241;43m=\u001b[39;49m\u001b[43mf\u001b[49m\u001b[38;5;241;43m.\u001b[39;49m\u001b[43mdegree\u001b[49m\u001b[43m(\u001b[49m\u001b[43m)\u001b[49m\u001b[38;5;241;43m*\u001b[39;49m\u001b[38;5;241;43m15\u001b[39;49m\u001b[43m)\u001b[49m\n\u001b[0;32m   3710\u001b[0m     roots \u001b[38;5;241m=\u001b[39m \u001b[38;5;28mlist\u001b[39m(\u001b[38;5;28mmap\u001b[39m(sympify,\n\u001b[0;32m   3711\u001b[0m         \u001b[38;5;28msorted\u001b[39m(roots, key\u001b[38;5;241m=\u001b[39m\u001b[38;5;28;01mlambda\u001b[39;00m r: (\u001b[38;5;241m1\u001b[39m \u001b[38;5;28;01mif\u001b[39;00m r\u001b[38;5;241m.\u001b[39mimag \u001b[38;5;28;01melse\u001b[39;00m \u001b[38;5;241m0\u001b[39m, r\u001b[38;5;241m.\u001b[39mreal, \u001b[38;5;28mabs\u001b[39m(r\u001b[38;5;241m.\u001b[39mimag), sign(r\u001b[38;5;241m.\u001b[39mimag)))))\n",
      "File \u001b[1;32m~\\anaconda3\\envs\\drawpy\\lib\\site-packages\\mpmath\\calculus\\polynomials.py:196\u001b[0m, in \u001b[0;36mpolyroots\u001b[1;34m(ctx, coeffs, maxsteps, cleanup, extraprec, error, roots_init)\u001b[0m\n\u001b[0;32m    195\u001b[0m \u001b[38;5;28;01mif\u001b[39;00m \u001b[38;5;28mabs\u001b[39m(\u001b[38;5;28mmax\u001b[39m(err)) \u001b[38;5;241m>\u001b[39m\u001b[38;5;241m=\u001b[39m tol:\n\u001b[1;32m--> 196\u001b[0m     \u001b[38;5;28;01mraise\u001b[39;00m ctx\u001b[38;5;241m.\u001b[39mNoConvergence(\u001b[38;5;124m\"\u001b[39m\u001b[38;5;124mDidn\u001b[39m\u001b[38;5;124m'\u001b[39m\u001b[38;5;124mt converge in maxsteps=\u001b[39m\u001b[38;5;132;01m%d\u001b[39;00m\u001b[38;5;124m steps.\u001b[39m\u001b[38;5;124m\"\u001b[39m \\\n\u001b[0;32m    197\u001b[0m             \u001b[38;5;241m%\u001b[39m maxsteps)\n\u001b[0;32m    198\u001b[0m \u001b[38;5;66;03m# Remove small real or imaginary parts\u001b[39;00m\n",
      "\u001b[1;31mNoConvergence\u001b[0m: Didn't converge in maxsteps=50 steps.",
      "\nDuring handling of the above exception, another exception occurred:\n",
      "\u001b[1;31mNoConvergence\u001b[0m                             Traceback (most recent call last)",
      "Input \u001b[1;32mIn [9]\u001b[0m, in \u001b[0;36m<cell line: 2>\u001b[1;34m()\u001b[0m\n\u001b[0;32m      1\u001b[0m C_0 \u001b[38;5;241m=\u001b[39m \u001b[38;5;241m0\u001b[39m\n\u001b[1;32m----> 2\u001b[0m freqs \u001b[38;5;241m=\u001b[39m \u001b[43mfoster\u001b[49m\u001b[38;5;241;43m.\u001b[39;49m\u001b[43mcircuit_resonances_sympy\u001b[49m\u001b[43m(\u001b[49m\u001b[43my_eqs\u001b[49m\u001b[43m[\u001b[49m\u001b[38;5;241;43m0\u001b[39;49m\u001b[43m]\u001b[49m\u001b[43m,\u001b[49m\u001b[43mC_0\u001b[49m\u001b[43m \u001b[49m\u001b[38;5;241;43m=\u001b[39;49m\u001b[43m \u001b[49m\u001b[43mC_0\u001b[49m\u001b[43m,\u001b[49m\u001b[43mfull\u001b[49m\u001b[43m \u001b[49m\u001b[38;5;241;43m=\u001b[39;49m\u001b[43m \u001b[49m\u001b[38;5;28;43;01mFalse\u001b[39;49;00m\u001b[43m)\u001b[49m\n\u001b[0;32m      3\u001b[0m freqs_2 \u001b[38;5;241m=\u001b[39m foster\u001b[38;5;241m.\u001b[39mcircuit_resonances_sympy(y_eqs[\u001b[38;5;241m0\u001b[39m],C_0,full \u001b[38;5;241m=\u001b[39m \u001b[38;5;28;01mFalse\u001b[39;00m)\n\u001b[0;32m      4\u001b[0m \u001b[38;5;28mprint\u001b[39m(\u001b[38;5;124m\"\u001b[39m\u001b[38;5;124m      Real | Im\u001b[39m\u001b[38;5;124m\"\u001b[39m)\n",
      "File \u001b[1;32m~\\Desktop\\design\\Formal solves\\foster.py:107\u001b[0m, in \u001b[0;36mcircuit_resonances_sympy\u001b[1;34m(Y_eq, C_0, full)\u001b[0m\n\u001b[0;32m    105\u001b[0m \u001b[38;5;28;01mif\u001b[39;00m sp\u001b[38;5;241m.\u001b[39mconjugate(num_tot) \u001b[38;5;241m==\u001b[39m \u001b[38;5;241m-\u001b[39mnum_tot:\n\u001b[0;32m    106\u001b[0m     num_tot \u001b[38;5;241m=\u001b[39m sp\u001b[38;5;241m.\u001b[39mim(num_tot)\n\u001b[1;32m--> 107\u001b[0m roots_num \u001b[38;5;241m=\u001b[39m \u001b[43msp\u001b[49m\u001b[38;5;241;43m.\u001b[39;49m\u001b[43mnroots\u001b[49m\u001b[43m(\u001b[49m\u001b[43msp\u001b[49m\u001b[38;5;241;43m.\u001b[39;49m\u001b[43mpoly\u001b[49m\u001b[43m(\u001b[49m\u001b[43mnum_tot\u001b[49m\u001b[43m)\u001b[49m\u001b[43m,\u001b[49m\u001b[43mn\u001b[49m\u001b[38;5;241;43m=\u001b[39;49m\u001b[38;5;241;43m200\u001b[39;49m\u001b[43m)\u001b[49m\n\u001b[0;32m    108\u001b[0m freqs \u001b[38;5;241m=\u001b[39m [(\u001b[38;5;28mfloat\u001b[39m(sp\u001b[38;5;241m.\u001b[39mre(el)),\u001b[38;5;28mfloat\u001b[39m(sp\u001b[38;5;241m.\u001b[39mim(el))) \u001b[38;5;28;01mfor\u001b[39;00m el \u001b[38;5;129;01min\u001b[39;00m roots_num]\n\u001b[0;32m    109\u001b[0m freqs\u001b[38;5;241m.\u001b[39msort()\n",
      "File \u001b[1;32m~\\anaconda3\\envs\\drawpy\\lib\\site-packages\\sympy\\polys\\polytools.py:6635\u001b[0m, in \u001b[0;36mnroots\u001b[1;34m(f, n, maxsteps, cleanup)\u001b[0m\n\u001b[0;32m   6631\u001b[0m \u001b[38;5;28;01mexcept\u001b[39;00m GeneratorsNeeded:\n\u001b[0;32m   6632\u001b[0m     \u001b[38;5;28;01mraise\u001b[39;00m PolynomialError(\n\u001b[0;32m   6633\u001b[0m         \u001b[38;5;124m\"\u001b[39m\u001b[38;5;124mCannot compute numerical roots of \u001b[39m\u001b[38;5;132;01m%s\u001b[39;00m\u001b[38;5;124m, not a polynomial\u001b[39m\u001b[38;5;124m\"\u001b[39m \u001b[38;5;241m%\u001b[39m f)\n\u001b[1;32m-> 6635\u001b[0m \u001b[38;5;28;01mreturn\u001b[39;00m \u001b[43mF\u001b[49m\u001b[38;5;241;43m.\u001b[39;49m\u001b[43mnroots\u001b[49m\u001b[43m(\u001b[49m\u001b[43mn\u001b[49m\u001b[38;5;241;43m=\u001b[39;49m\u001b[43mn\u001b[49m\u001b[43m,\u001b[49m\u001b[43m \u001b[49m\u001b[43mmaxsteps\u001b[49m\u001b[38;5;241;43m=\u001b[39;49m\u001b[43mmaxsteps\u001b[49m\u001b[43m,\u001b[49m\u001b[43m \u001b[49m\u001b[43mcleanup\u001b[49m\u001b[38;5;241;43m=\u001b[39;49m\u001b[43mcleanup\u001b[49m\u001b[43m)\u001b[49m\n",
      "File \u001b[1;32m~\\anaconda3\\envs\\drawpy\\lib\\site-packages\\sympy\\polys\\polytools.py:3713\u001b[0m, in \u001b[0;36mPoly.nroots\u001b[1;34m(f, n, maxsteps, cleanup)\u001b[0m\n\u001b[0;32m   3710\u001b[0m         roots \u001b[38;5;241m=\u001b[39m \u001b[38;5;28mlist\u001b[39m(\u001b[38;5;28mmap\u001b[39m(sympify,\n\u001b[0;32m   3711\u001b[0m             \u001b[38;5;28msorted\u001b[39m(roots, key\u001b[38;5;241m=\u001b[39m\u001b[38;5;28;01mlambda\u001b[39;00m r: (\u001b[38;5;241m1\u001b[39m \u001b[38;5;28;01mif\u001b[39;00m r\u001b[38;5;241m.\u001b[39mimag \u001b[38;5;28;01melse\u001b[39;00m \u001b[38;5;241m0\u001b[39m, r\u001b[38;5;241m.\u001b[39mreal, \u001b[38;5;28mabs\u001b[39m(r\u001b[38;5;241m.\u001b[39mimag), sign(r\u001b[38;5;241m.\u001b[39mimag)))))\n\u001b[0;32m   3712\u001b[0m     \u001b[38;5;28;01mexcept\u001b[39;00m NoConvergence:\n\u001b[1;32m-> 3713\u001b[0m         \u001b[38;5;28;01mraise\u001b[39;00m NoConvergence(\n\u001b[0;32m   3714\u001b[0m             \u001b[38;5;124m'\u001b[39m\u001b[38;5;124mconvergence to root failed; try n < \u001b[39m\u001b[38;5;132;01m%s\u001b[39;00m\u001b[38;5;124m or maxsteps > \u001b[39m\u001b[38;5;132;01m%s\u001b[39;00m\u001b[38;5;124m'\u001b[39m \u001b[38;5;241m%\u001b[39m (\n\u001b[0;32m   3715\u001b[0m             n, maxsteps))\n\u001b[0;32m   3716\u001b[0m \u001b[38;5;28;01mfinally\u001b[39;00m:\n\u001b[0;32m   3717\u001b[0m     mpmath\u001b[38;5;241m.\u001b[39mmp\u001b[38;5;241m.\u001b[39mdps \u001b[38;5;241m=\u001b[39m dps\n",
      "\u001b[1;31mNoConvergence\u001b[0m: convergence to root failed; try n < 200 or maxsteps > 50"
     ]
    }
   ],
   "source": [
    "C_0 = 0\n",
    "freqs = foster.circuit_resonances_sympy(y_eqs[0],C_0 = C_0,full = False)\n",
    "freqs_2 = foster.circuit_resonances_sympy(y_eqs[0],C_0,full = False)\n",
    "print(\"      Real | Im\")\n",
    "for i,(el,el_2) in enumerate(zip(freqs,freqs_2)):\n",
    "    print(f\"f{i:02d} : {el[0]} | {el[1]} || {el_2[0]} | {el_2[1]} || {abs(el[0]-el_2[0])/el[0]*100} | {abs(el[1]-el_2[1])/el[1]*100}\")\n",
    "    i+=1"
   ]
  },
  {
   "cell_type": "code",
   "execution_count": 67,
   "id": "d84d3026",
   "metadata": {},
   "outputs": [],
   "source": [
    "C_0 = 2.6e-3\n",
    "L_eq,C_eq,corr = foster.foster_decompo_1(y_eqs[0],big_eq = True,display = False)"
   ]
  },
  {
   "cell_type": "code",
   "execution_count": 65,
   "id": "76c5d07b",
   "metadata": {
    "scrolled": false
   },
   "outputs": [
    {
     "name": "stdout",
     "output_type": "stream",
     "text": [
      "L_eq = 14.999995787572185 | error : 2.8082852097099934e-05 %\n",
      "C_eq = 0.0002974073241365272 | 11.438743236020278 % of C_0\n",
      "\n",
      "w_tran = 5.063696835418333 GHz | w_eq0 = 4.796778390232834 GHz | error : 5.271216936182307 %\n",
      "\n",
      "w_tran = 5.063696835418333 GHz | w_root = 4.7967776399 GHz | error : 5.271231754068497 %\n",
      "\n",
      "L_corr_01 : 4.21e-06 | C_corr_01 : 1055.8706813 | w_p_01 = 14.99437605666159\n"
     ]
    }
   ],
   "source": [
    "print(f\"L_eq = {L_eq} | error : {abs(l_j_0-L_eq)/l_j_0*100} %\") \n",
    "print(f\"C_eq = {C_eq} | {abs(C_eq)/C_0*100} % of C_0\\n\")\n",
    "w_tran, w_eq = 1/np.sqrt(C_0*l_j_0), 1/np.sqrt((C_0+C_eq)*L_eq)\n",
    "print(f\"w_tran = {w_tran} GHz | w_eq0 = {w_eq} GHz | error : {abs(w_tran-w_eq)/w_tran*100} %\\n\")\n",
    "print(f\"w_tran = {w_tran} GHz | w_root = {freqs[0][0]} GHz | error : {abs(w_tran-freqs[0][0])/w_tran*100} %\\n\")\n",
    "for i in range(len(corr)):\n",
    "    print(f\"L_corr_{i+1:02d} : {round(corr[i][0],8)} | C_corr_{i+1:02d} : {round(corr[i][1],8)} | w_p_{i+1:02d} = {1/(corr[i][0]*corr[i][1])**(1/2)}\")"
   ]
  },
  {
   "cell_type": "code",
   "execution_count": null,
   "id": "f0b86650",
   "metadata": {},
   "outputs": [],
   "source": []
  },
  {
   "cell_type": "markdown",
   "id": "2bfc5d61",
   "metadata": {},
   "source": [
    "## Foster decompo 2"
   ]
  },
  {
   "cell_type": "code",
   "execution_count": 1,
   "id": "3aa09a3a",
   "metadata": {},
   "outputs": [
    {
     "ename": "NameError",
     "evalue": "name 'foster' is not defined",
     "output_type": "error",
     "traceback": [
      "\u001b[1;31m---------------------------------------------------------------------------\u001b[0m",
      "\u001b[1;31mNameError\u001b[0m                                 Traceback (most recent call last)",
      "Input \u001b[1;32mIn [1]\u001b[0m, in \u001b[0;36m<cell line: 1>\u001b[1;34m()\u001b[0m\n\u001b[1;32m----> 1\u001b[0m L_eq,C_eq,corr \u001b[38;5;241m=\u001b[39m \u001b[43mfoster\u001b[49m\u001b[38;5;241m.\u001b[39mfoster_decompo_2(y_eqs[\u001b[38;5;241m0\u001b[39m])\n",
      "\u001b[1;31mNameError\u001b[0m: name 'foster' is not defined"
     ]
    }
   ],
   "source": [
    "L_eq,C_eq,corr = foster.foster_decompo_2(y_eqs[0])\n",
    "#freqs = foster.circuit_resonances(y_eqs[0],C_0 = C_0)\n",
    "#freqs_corr = foster.resonances_from_foster_2(L_eq,C_eq,corr,C_0 = C_0)"
   ]
  },
  {
   "cell_type": "code",
   "execution_count": 19,
   "id": "941f1eb5",
   "metadata": {},
   "outputs": [
    {
     "name": "stdout",
     "output_type": "stream",
     "text": [
      "\n",
      "---------------------------------\n",
      "\n",
      "C_eq = 0 | 0.0 % of C_0\n",
      "\n",
      "w_tran = 5.063696835418333 GHz | w_eq0 = inf GHz | error : inf %\n",
      "\n",
      "L_corr_01 : nan | C_corr_01 : nan\n",
      "L_corr_02 : 48.8247294 | C_corr_02 : 7.851e-05\n",
      "L_corr_03 : 53.97495043 | C_corr_03 : 7.209e-05\n",
      "L_corr_04 : 74.86266041 | C_corr_04 : 6.892e-05\n",
      "L_corr_05 : 57.29394414 | C_corr_05 : 6.791e-05\n",
      "L_corr_06 : 82.14720599 | C_corr_06 : 6.186e-05\n",
      "L_corr_07 : 79.94682114 | C_corr_07 : 6.094e-05\n",
      "L_corr_08 : 87.04180685 | C_corr_08 : 5.838e-05\n",
      "L_corr_09 : 83.49139773 | C_corr_09 : 5.835e-05\n",
      "L_corr_10 : 94.90595276 | C_corr_10 : 4.272e-05\n",
      "L_corr_11 : 110.61041718 | C_corr_11 : 4.149e-05\n",
      "L_corr_12 : 97.87525018 | C_corr_12 : 4.142e-05\n",
      "L_corr_13 : 111.96420142 | C_corr_13 : 4.098e-05\n",
      "L_corr_14 : 707.54634117 | C_corr_14 : 6.08e-06\n",
      "L_corr_15 : 2308.48835401 | C_corr_15 : 1.86e-06\n"
     ]
    },
    {
     "name": "stderr",
     "output_type": "stream",
     "text": [
      "C:\\Users\\rroussea\\AppData\\Local\\Temp\\ipykernel_800\\1589666811.py:3: RuntimeWarning: divide by zero encountered in double_scalars\n",
      "  w_tran, w_eq = 1/np.sqrt(C_0*l_j_0), 1/np.sqrt((C_0+C_eq)*L_eq)\n"
     ]
    }
   ],
   "source": [
    "print(\"\\n---------------------------------\\n\")\n",
    "print(f\"C_eq = {C_eq} | {abs(C_eq)/C_0*100} % of C_0\\n\")\n",
    "w_tran, w_eq = 1/np.sqrt(C_0*l_j_0), 1/np.sqrt((C_0+C_eq)*L_eq)\n",
    "print(f\"w_tran = {w_tran} GHz | w_eq0 = {w_eq} GHz | error : {abs(w_tran-w_eq)/w_tran*100} %\\n\")\n",
    "#print(f\"w_tran = {w_tran} GHz | w_root = {freqs[0]} GHz | error : {abs(w_tran-freqs[0])/w_tran*100} %\\n\")\n",
    "for i in range(len(corr)):\n",
    "    print(f\"L_corr_{i+1:02d} : {round(corr[i][0],8)} | C_corr_{i+1:02d} : {round(corr[i][1],8)}\" )"
   ]
  },
  {
   "cell_type": "markdown",
   "id": "b159a708",
   "metadata": {},
   "source": [
    "## Plot making"
   ]
  },
  {
   "cell_type": "code",
   "execution_count": 27,
   "id": "5cb1f7d7",
   "metadata": {},
   "outputs": [
    {
     "ename": "TypeError",
     "evalue": "equivalent_impedance() got an unexpected keyword argument 'w0'",
     "output_type": "error",
     "traceback": [
      "\u001b[1;31m---------------------------------------------------------------------------\u001b[0m",
      "\u001b[1;31mTypeError\u001b[0m                                 Traceback (most recent call last)",
      "Input \u001b[1;32mIn [27]\u001b[0m, in \u001b[0;36m<cell line: 1>\u001b[1;34m()\u001b[0m\n\u001b[1;32m----> 1\u001b[0m y_eqs \u001b[38;5;241m=\u001b[39m \u001b[43mchain_z_eq\u001b[49m\u001b[38;5;241;43m.\u001b[39;49m\u001b[43mequivalent_impedance\u001b[49m\u001b[43m(\u001b[49m\u001b[43mN_jct\u001b[49m\u001b[43m \u001b[49m\u001b[38;5;241;43m=\u001b[39;49m\u001b[43m \u001b[49m\u001b[38;5;241;43m80\u001b[39;49m\u001b[43m,\u001b[49m\u001b[43mmass_capa\u001b[49m\u001b[43m \u001b[49m\u001b[38;5;241;43m=\u001b[39;49m\u001b[43m \u001b[49m\u001b[38;5;28;43;01mFalse\u001b[39;49;00m\u001b[43m,\u001b[49m\u001b[43mall_impedance\u001b[49m\u001b[43m \u001b[49m\u001b[38;5;241;43m=\u001b[39;49m\u001b[43m \u001b[49m\u001b[38;5;28;43;01mTrue\u001b[39;49;00m\u001b[43m,\u001b[49m\u001b[43mfourier\u001b[49m\u001b[43m \u001b[49m\u001b[38;5;241;43m=\u001b[39;49m\u001b[43m \u001b[49m\u001b[38;5;28;43;01mFalse\u001b[39;49;00m\u001b[43m,\u001b[49m\u001b[43mloss\u001b[49m\u001b[43m \u001b[49m\u001b[38;5;241;43m=\u001b[39;49m\u001b[43m \u001b[49m\u001b[38;5;28;43;01mFalse\u001b[39;49;00m\u001b[43m,\u001b[49m\u001b[43m \u001b[49m\u001b[43mimpedance\u001b[49m\u001b[43m \u001b[49m\u001b[38;5;241;43m=\u001b[39;49m\u001b[43m \u001b[49m\u001b[38;5;28;43;01mFalse\u001b[39;49;00m\u001b[43m,\u001b[49m\u001b[43ml_j_0\u001b[49m\u001b[43m \u001b[49m\u001b[38;5;241;43m=\u001b[39;49m\u001b[43m \u001b[49m\u001b[38;5;241;43m15\u001b[39;49m\u001b[43m,\u001b[49m\u001b[43mw0\u001b[49m\u001b[43m \u001b[49m\u001b[38;5;241;43m=\u001b[39;49m\u001b[43m \u001b[49m\u001b[38;5;241;43m15\u001b[39;49m\u001b[43m,\u001b[49m\u001b[43mc_g\u001b[49m\u001b[43m \u001b[49m\u001b[38;5;241;43m=\u001b[39;49m\u001b[43m \u001b[49m\u001b[38;5;241;43m10e-4\u001b[39;49m\u001b[43m,\u001b[49m\u001b[43mr\u001b[49m\u001b[43m \u001b[49m\u001b[38;5;241;43m=\u001b[39;49m\u001b[43m \u001b[49m\u001b[43mr\u001b[49m\u001b[43m,\u001b[49m\u001b[43mmessages\u001b[49m\u001b[43m \u001b[49m\u001b[38;5;241;43m=\u001b[39;49m\u001b[43m \u001b[49m\u001b[38;5;28;43;01mTrue\u001b[39;49;00m\u001b[43m)\u001b[49m\n",
      "\u001b[1;31mTypeError\u001b[0m: equivalent_impedance() got an unexpected keyword argument 'w0'"
     ]
    }
   ],
   "source": [
    "y_eqs = quick_eq_imp.equivalent_impedance(N_jct = 80,mass_capa = False,all_impedance = True,fourier = False,loss = False, impedance = False,l_j_0 = 15,w0 = 15,c_g = 10e-4,r = r,messages = True)"
   ]
  },
  {
   "cell_type": "code",
   "execution_count": null,
   "id": "73e20b90",
   "metadata": {},
   "outputs": [],
   "source": [
    "l_freqs,l_freqs_corr = [],[]\n",
    "N_vals = [4,8,12,20,30,40,50,60,70,80]\n",
    "for N in tqdm(N_vals):\n",
    "    y_eq = y_eqs[N-2]\n",
    "    res = foster_decompo(y_eq, display = False)\n",
    "    l_freqs.append(res[3])\n",
    "    l_freqs_corr.append(res[4])"
   ]
  },
  {
   "cell_type": "code",
   "execution_count": null,
   "id": "b1b2a6c4",
   "metadata": {},
   "outputs": [],
   "source": [
    "error = [sum([np.abs(f-f_c)/f for f,f_c in zip(fs,fs_c)])/len(fs) for fs,fs_c in zip(l_freqs,l_freqs_corr)]\n",
    "plt.plot(N_vals,error)"
   ]
  },
  {
   "cell_type": "code",
   "execution_count": null,
   "id": "f730264d",
   "metadata": {},
   "outputs": [],
   "source": []
  },
  {
   "cell_type": "code",
   "execution_count": 4,
   "id": "d620181c",
   "metadata": {},
   "outputs": [
    {
     "name": "stdout",
     "output_type": "stream",
     "text": [
      "Computing denominators..\n"
     ]
    },
    {
     "name": "stderr",
     "output_type": "stream",
     "text": [
      "100%|████████████████████████████████████████████████████████████████████████████████████| 3/3 [00:00<00:00, 53.18it/s]\n"
     ]
    }
   ],
   "source": [
    "Z_s_0, Z_p_0 = sp.symbols(\"Z_s_0 Z_p_0\")\n",
    "D_l = [2*Z_p_0+Z_s_0]\n",
    "iterable = range(3)\n",
    "if True : \n",
    "    print(\"Computing denominators..\")\n",
    "    iterable = tqdm(iterable)\n",
    "for _ in iterable:\n",
    "    D_l.append(sp.factor(2*Z_p_0+Z_s_0-Z_p_0**2/D_l[-1])) "
   ]
  },
  {
   "cell_type": "code",
   "execution_count": 5,
   "id": "5e5c9230",
   "metadata": {},
   "outputs": [
    {
     "data": {
      "text/latex": [
       "$\\displaystyle \\frac{\\left(Z_{p 0} + Z_{s 0}\\right) \\left(3 Z_{p 0} + Z_{s 0}\\right)}{2 Z_{p 0} + Z_{s 0}}$"
      ],
      "text/plain": [
       "(Z_p_0 + Z_s_0)*(3*Z_p_0 + Z_s_0)/(2*Z_p_0 + Z_s_0)"
      ]
     },
     "execution_count": 5,
     "metadata": {},
     "output_type": "execute_result"
    }
   ],
   "source": [
    "D_l[1]"
   ]
  },
  {
   "cell_type": "code",
   "execution_count": 6,
   "id": "ca30ca20",
   "metadata": {},
   "outputs": [
    {
     "data": {
      "text/plain": [
       "'(Z_p_0 + Z_s_0)*(3*Z_p_0 + Z_s_0)/(2*Z_p_0 + Z_s_0)'"
      ]
     },
     "execution_count": 6,
     "metadata": {},
     "output_type": "execute_result"
    }
   ],
   "source": [
    "str(D_l[1])"
   ]
  },
  {
   "cell_type": "code",
   "execution_count": 8,
   "id": "ac2419f4",
   "metadata": {},
   "outputs": [
    {
     "data": {
      "text/latex": [
       "$\\displaystyle \\frac{\\left(Z_{p 0} + 3\\right) \\left(3 Z_{p 0} + 3\\right)}{2 Z_{p 0} + 3}$"
      ],
      "text/plain": [
       "(Z_p_0 + 3)*(3*Z_p_0 + 3)/(2*Z_p_0 + 3)"
      ]
     },
     "execution_count": 8,
     "metadata": {},
     "output_type": "execute_result"
    }
   ],
   "source": [
    "sp.simplify(str(D_l[1])).subs({Z_s_0 : 3})"
   ]
  },
  {
   "cell_type": "code",
   "execution_count": 9,
   "id": "03cc220d",
   "metadata": {},
   "outputs": [
    {
     "data": {
      "text/plain": [
       "'2*Z_p_0 + Z_s_0'"
      ]
     },
     "execution_count": 9,
     "metadata": {},
     "output_type": "execute_result"
    }
   ],
   "source": [
    "str(2*Z_p_0+Z_s_0)"
   ]
  },
  {
   "cell_type": "code",
   "execution_count": null,
   "id": "19f1221c",
   "metadata": {},
   "outputs": [],
   "source": []
  }
 ],
 "metadata": {
  "kernelspec": {
   "display_name": "Python 3 (ipykernel)",
   "language": "python",
   "name": "python3"
  },
  "language_info": {
   "codemirror_mode": {
    "name": "ipython",
    "version": 3
   },
   "file_extension": ".py",
   "mimetype": "text/x-python",
   "name": "python",
   "nbconvert_exporter": "python",
   "pygments_lexer": "ipython3",
   "version": "3.9.12"
  }
 },
 "nbformat": 4,
 "nbformat_minor": 5
}
