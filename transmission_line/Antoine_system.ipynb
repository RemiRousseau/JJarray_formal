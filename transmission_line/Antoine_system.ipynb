{
 "cells": [
  {
   "cell_type": "code",
   "execution_count": 5,
   "outputs": [],
   "source": [
    "import numpy as np\n",
    "import matplotlib.pyplot as plt\n",
    "\n",
    "from tqdm import tqdm"
   ],
   "metadata": {
    "collapsed": false,
    "pycharm": {
     "name": "#%%\n"
    }
   }
  },
  {
   "cell_type": "markdown",
   "source": [
    "# Estimating frequencies with ABCD matrices"
   ],
   "metadata": {
    "collapsed": false,
    "pycharm": {
     "name": "#%% md\n"
    }
   }
  },
  {
   "cell_type": "code",
   "execution_count": 6,
   "outputs": [],
   "source": [
    "n_jct = 24\n",
    "lj = 15/n_jct\n",
    "cj = 1/(lj*(15*2*np.pi)**2)\n",
    "cg = 1e-7\n",
    "ct = 1/(7.5*(4*2*np.pi)**2)\n",
    "\n",
    "rg = np.inf\n",
    "rjp = np.inf\n",
    "rjs = 0\n",
    "rt = np.inf"
   ],
   "metadata": {
    "collapsed": false,
    "pycharm": {
     "name": "#%%\n"
    }
   }
  },
  {
   "cell_type": "code",
   "execution_count": 7,
   "outputs": [],
   "source": [
    "zs = lambda w, lj, cj: 1j*lj*w/(1-lj*cj*w**2)\n",
    "yg = lambda w, cg: 1j*cg*w\n",
    "zt = lambda w, ct: 1/(1j*ct*w)\n",
    "#gamma = lambda w, lj, cj, cg: np.arccos(zs(w, lj, cj)*yg(w, cg)/2+1)\n",
    "gamma = lambda w, lj, cj, cg: -1j*np.sqrt(zs(w, lj, cj)*yg(w, cg))\n",
    "#zl = lambda w, lj, cj, cg: np.sqrt(zs(w, lj, cj)/yg(w, cg)*np.exp(1j*gamma(w, lj, cj, cg)))\n",
    "zl = lambda w, lj, cj, cg: np.sqrt(zs(w, lj, cj)/yg(w, cg))"
   ],
   "metadata": {
    "collapsed": false,
    "pycharm": {
     "name": "#%%\n"
    }
   }
  },
  {
   "cell_type": "code",
   "execution_count": 9,
   "outputs": [
    {
     "name": "stderr",
     "output_type": "stream",
     "text": [
      "C:\\Users\\rroussea\\AppData\\Local\\Temp\\ipykernel_13920\\2300706387.py:1: RuntimeWarning: divide by zero encountered in true_divide\n",
      "  zs = lambda w, lj, cj: 1j*lj*w/(1-lj*cj*w**2)\n",
      "C:\\Users\\rroussea\\AppData\\Local\\Temp\\ipykernel_13920\\2300706387.py:1: RuntimeWarning: invalid value encountered in true_divide\n",
      "  zs = lambda w, lj, cj: 1j*lj*w/(1-lj*cj*w**2)\n",
      "C:\\Users\\rroussea\\AppData\\Local\\Temp\\ipykernel_13920\\2300706387.py:5: RuntimeWarning: invalid value encountered in multiply\n",
      "  gamma = lambda w, lj, cj, cg: -1j*np.sqrt(zs(w, lj, cj)*yg(w, cg))\n",
      "C:\\Users\\rroussea\\AppData\\Local\\Temp\\ipykernel_13920\\2300706387.py:7: RuntimeWarning: invalid value encountered in true_divide\n",
      "  zl = lambda w, lj, cj, cg: np.sqrt(zs(w, lj, cj)/yg(w, cg))\n",
      "C:\\Users\\rroussea\\AppData\\Local\\Temp\\ipykernel_13920\\2300706387.py:3: RuntimeWarning: divide by zero encountered in true_divide\n",
      "  zt = lambda w, ct: 1/(1j*ct*w)\n",
      "C:\\Users\\rroussea\\AppData\\Local\\Temp\\ipykernel_13920\\2300706387.py:3: RuntimeWarning: invalid value encountered in true_divide\n",
      "  zt = lambda w, ct: 1/(1j*ct*w)\n",
      "C:\\Users\\rroussea\\AppData\\Local\\Temp\\ipykernel_13920\\4130894045.py:5: RuntimeWarning: invalid value encountered in true_divide\n",
      "  yt_v = 1/zt(ws,ct)\n",
      "C:\\Users\\rroussea\\AppData\\Local\\Temp\\ipykernel_13920\\4130894045.py:8: RuntimeWarning: invalid value encountered in true_divide\n",
      "  z_in = v_in/i_in\n"
     ]
    },
    {
     "name": "stdout",
     "output_type": "stream",
     "text": [
      "0.0 0.0\n"
     ]
    },
    {
     "data": {
      "text/plain": "<Figure size 864x576 with 2 Axes>",
      "image/png": "[encoded data removed]"
     },
     "metadata": {
      "needs_background": "light"
     },
     "output_type": "display_data"
    }
   ],
   "source": [
    "ws = np.linspace(0,1/np.sqrt(lj*cj)/2/np.pi,10000)*2*np.pi\n",
    "#ws = np.linspace(0,17.5,100000)*2*np.pi\n",
    "gam = gamma(ws, lj, cj, cg)\n",
    "zl_v = zl(ws, lj, cj, cg)\n",
    "yt_v = 1/zt(ws,ct)\n",
    "v_in = np.cosh(1j*gam*n_jct)+zl_v*yt_v*np.sinh(1j*gam*n_jct)\n",
    "i_in = 2*yt_v*np.cosh(1j*gam*n_jct)+(zl_v*yt_v**2+1/zl_v)*np.sinh(1j*gam*n_jct)\n",
    "z_in = v_in/i_in\n",
    "ylim = 1e3\n",
    "\n",
    "print(np.nanmin(np.real(z_in)), np.nanmax(np.real(z_in)))\n",
    "fig,axs = plt.subplots(2,1,figsize=(12,8))\n",
    "axs[0].plot(ws/2/np.pi,np.real(z_in))\n",
    "axs[1].plot(ws/2/np.pi,np.imag(z_in))\n",
    "\n",
    "axs[0].grid()\n",
    "axs[1].grid()\n",
    "axs[0].set_ylim([-10,10])\n",
    "axs[1].set_ylim([-100,100])\n",
    "plt.show()"
   ],
   "metadata": {
    "collapsed": false,
    "pycharm": {
     "name": "#%%\n"
    }
   }
  },
  {
   "cell_type": "markdown",
   "source": [
    "# With buffer and memory"
   ],
   "metadata": {
    "collapsed": false,
    "pycharm": {
     "name": "#%% md\n"
    }
   }
  },
  {
   "cell_type": "code",
   "execution_count": 10,
   "outputs": [],
   "source": [
    "f_p =  15\n",
    "\n",
    "n_jct_memory = 25\n",
    "L_memory = 15\n",
    "lj_mem = L_memory/n_jct_memory\n",
    "cj_mem = 1/(lj_mem*(f_p*2*np.pi)**2)\n",
    "#ct_mem = 8.358e-5\n",
    "ct_mem = 1e-4\n",
    "\n",
    "L_ats = 4\n",
    "\n",
    "n_jct_buffer = 9\n",
    "L_buffer = 3.5\n",
    "lj_buf = L_buffer/n_jct_buffer\n",
    "cj_buf = 1/(lj_buf*(f_p*2*np.pi)**2)\n",
    "#ct_buf = 6.8318e-5\n",
    "ct_buf = 9.2e-5\n",
    "\n",
    "cg = 1e-9"
   ],
   "metadata": {
    "collapsed": false,
    "pycharm": {
     "name": "#%%\n"
    }
   }
  },
  {
   "cell_type": "code",
   "execution_count": 11,
   "outputs": [],
   "source": [
    "def transmission_serie(Z):\n",
    "    return np.array([[1, Z],\n",
    "                     [0, 1]])\n",
    "\n",
    "def transmission_shunt(Y):\n",
    "    return np.array([[1, 0],\n",
    "                     [Y, 1]])\n",
    "\n",
    "def transmission_line(_zl, _gamma, _n_jct):\n",
    "    return np.array([[np.cosh(1j*_gamma*_n_jct), _zl*np.sinh(1j*_gamma*_n_jct)],\n",
    "                     [1/_zl*np.sinh(1j*_gamma*_n_jct),np.cosh(1j*_gamma*_n_jct)]])\n",
    "\n",
    "zs = lambda _w, _lj, _cj: 1j*lj*_w/(1-_lj*_cj*_w**2)"
   ],
   "metadata": {
    "collapsed": false,
    "pycharm": {
     "name": "#%%\n"
    }
   }
  },
  {
   "cell_type": "code",
   "execution_count": 12,
   "outputs": [],
   "source": [
    "def z_in_perf(w):\n",
    "    zs_mem = 1j*L_memory*w\n",
    "    yt_mem = 1j*ct_mem*w\n",
    "    y_ats = 1/(1j*L_ats/5*w)\n",
    "    zs_buf = 1j*L_buffer*w\n",
    "    yt_buf = 1j*ct_buf*w\n",
    "\n",
    "    mat_sh_mem = transmission_shunt(yt_mem)\n",
    "    mat_lin_mem = transmission_serie(zs_mem)\n",
    "    mat_sh_ats = transmission_shunt(y_ats)\n",
    "    mat_lin_buf = transmission_serie(zs_buf)\n",
    "    mat_sh_buf = transmission_shunt(yt_buf)\n",
    "\n",
    "    pdt = np.array([[1],[0]])\n",
    "    for mat in [mat_sh_mem,mat_lin_mem,mat_sh_ats,mat_lin_buf,mat_sh_buf][::-1]:\n",
    "        pdt = np.dot(mat,pdt)\n",
    "\n",
    "    return np.imag(pdt[0]/pdt[1])"
   ],
   "metadata": {
    "collapsed": false,
    "pycharm": {
     "name": "#%%\n"
    }
   }
  },
  {
   "cell_type": "code",
   "execution_count": 13,
   "outputs": [],
   "source": [
    "def z_in_trans_continue(w):\n",
    "    yg = 1j*cg*w\n",
    "\n",
    "    zs_mem = zs(w, lj_mem, cj_mem)\n",
    "    yt_mem = 1j*ct_mem*w\n",
    "    gamma_mem = -1j*np.sqrt(zs_mem*yg)\n",
    "    zl_mem = np.sqrt(zs_mem/yg)\n",
    "\n",
    "    y_ats = 1/(1j*L_ats*w)\n",
    "\n",
    "    zs_buf = zs(w, lj_buf, cj_buf)\n",
    "    yt_buf = 1j*ct_buf*w\n",
    "    gamma_buf = -1j*np.sqrt(zs_buf*yg)\n",
    "    zl_buf = np.sqrt(zs_buf/yg)\n",
    "\n",
    "    mat_sh_mem = transmission_shunt(yt_mem)\n",
    "    mat_lin_mem = transmission_line(zl_mem,gamma_mem,n_jct_memory)\n",
    "    mat_sh_ats = transmission_shunt(y_ats)\n",
    "    mat_lin_buf = transmission_line(zl_buf,gamma_buf,n_jct_buffer)\n",
    "    mat_sh_buf = transmission_shunt(yt_buf)\n",
    "\n",
    "    pdt = np.array([[1],[0]])\n",
    "    for mat in [mat_sh_mem,mat_lin_mem,mat_sh_ats,mat_lin_buf,mat_sh_buf][::-1]:\n",
    "        pdt = np.dot(mat,pdt)\n",
    "\n",
    "    return np.imag(pdt[0]/pdt[1])"
   ],
   "metadata": {
    "collapsed": false,
    "pycharm": {
     "name": "#%%\n"
    }
   }
  },
  {
   "cell_type": "code",
   "execution_count": 14,
   "outputs": [],
   "source": [
    "def z_in_trans_discret(w):\n",
    "    yg = 1j*cg*w\n",
    "\n",
    "    zs_mem = zs(w, lj_mem, cj_mem)\n",
    "    yt_mem = 1j*ct_mem*w\n",
    "    gamma_mem = np.arccos(zs_mem*yg/2+1)\n",
    "    zl_mem = np.sqrt(zs_mem/yg*np.exp(1j*gamma_mem))\n",
    "\n",
    "\n",
    "    y_ats = 1/(1j*L_ats*w)\n",
    "\n",
    "    zs_buf = zs(w, lj_buf, cj_buf)\n",
    "    yt_buf = 1j*ct_buf*w\n",
    "    gamma_buf = np.arccos(zs_buf*yg/2+1)\n",
    "    zl_buf = np.sqrt(zs_buf/yg*np.exp(1j*gamma_buf))\n",
    "\n",
    "    mat_sh_mem = transmission_shunt(yt_mem)\n",
    "    mat_lin_mem = transmission_line(zl_mem,gamma_mem,n_jct_memory)\n",
    "    mat_sh_ats = transmission_shunt(y_ats)\n",
    "    mat_lin_buf = transmission_line(zl_buf,gamma_buf,n_jct_buffer)\n",
    "    mat_sh_buf = transmission_shunt(yt_buf)\n",
    "\n",
    "    pdt = np.array([[1],[0]])\n",
    "    for mat in [mat_sh_mem,mat_lin_mem,mat_sh_ats,mat_lin_buf,mat_sh_buf][::-1]:\n",
    "        pdt = np.dot(mat,pdt)\n",
    "\n",
    "    return np.imag(pdt[0]/pdt[1])"
   ],
   "metadata": {
    "collapsed": false,
    "pycharm": {
     "name": "#%%\n"
    }
   }
  },
  {
   "cell_type": "code",
   "execution_count": 15,
   "outputs": [
    {
     "name": "stderr",
     "output_type": "stream",
     "text": [
      "100%|██████████| 9998/9998 [00:01<00:00, 6776.09it/s]\n"
     ]
    }
   ],
   "source": [
    "ws = np.linspace(0,14,10000)[1:-1]*2*np.pi\n",
    "z_in_v_perf, z_in_v_cont, z_in_v_discr =[], [], []\n",
    "for w in tqdm(ws):\n",
    "    z_in_v_perf.append(z_in_perf(w))\n",
    "    z_in_v_cont.append(z_in_trans_continue(w))\n",
    "    z_in_v_discr.append(z_in_trans_discret(w))"
   ],
   "metadata": {
    "collapsed": false,
    "pycharm": {
     "name": "#%%\n"
    }
   }
  },
  {
   "cell_type": "code",
   "execution_count": 16,
   "outputs": [],
   "source": [
    "def get_poles(vals, threshold= 15):\n",
    "    vals = np.array(vals)\n",
    "    sgn_multi = np.sign(vals)\n",
    "    eigen_ind_multi = [ind for ind, test in enumerate(sgn_multi[:-1] * sgn_multi[1:] == -1) if test]\n",
    "    return [ws[ind]/2/np.pi for ind in eigen_ind_multi if abs(vals[ind-1] - vals[ind])>threshold]"
   ],
   "metadata": {
    "collapsed": false,
    "pycharm": {
     "name": "#%%\n"
    }
   }
  },
  {
   "cell_type": "code",
   "execution_count": 17,
   "outputs": [
    {
     "name": "stdout",
     "output_type": "stream",
     "text": [
      "Perfect inductances [3.9973997399739973, 8.03960396039604, 8.052205220522051]\n",
      "Continuous model [3.419141914191419, 5.443744374437443]\n",
      "Discrete model [3.419141914191419, 5.443744374437443]\n"
     ]
    },
    {
     "data": {
      "text/plain": "<Figure size 864x576 with 1 Axes>",
      "image/png": "[encoded data removed]"
     },
     "metadata": {
      "needs_background": "light"
     },
     "output_type": "display_data"
    }
   ],
   "source": [
    "z_work_l = [z_in_v_perf, z_in_v_cont, z_in_v_discr]\n",
    "z_names = [\"Perfect inductances\", \"Continuous model\", \"Discrete model\"]\n",
    "\n",
    "fig,axs = plt.subplots(figsize=(12,8))\n",
    "ylim = 1e4\n",
    "for z_w, name in zip(z_work_l, z_names):\n",
    "    eigen_f_multi = get_poles(z_w)\n",
    "    print(name, eigen_f_multi)\n",
    "\n",
    "    axs.plot(ws/2/np.pi,z_w, label = name)\n",
    "    for f in eigen_f_multi:\n",
    "        axs.plot([f,f],[-ylim,ylim],\"+--\",color=\"red\")\n",
    "\n",
    "axs.grid()\n",
    "axs.set_ylim([-ylim,ylim])\n",
    "plt.legend()\n",
    "plt.show()"
   ],
   "metadata": {
    "collapsed": false,
    "pycharm": {
     "name": "#%%\n"
    }
   }
  },
  {
   "cell_type": "markdown",
   "source": [
    "## All treated like a transmission line"
   ],
   "metadata": {
    "collapsed": false,
    "pycharm": {
     "name": "#%% md\n"
    }
   }
  },
  {
   "cell_type": "code",
   "execution_count": 18,
   "outputs": [],
   "source": [
    "f_p =  15\n",
    "\n",
    "n_jct_memory = 25\n",
    "L_memory = 15\n",
    "lj_mem = L_memory/n_jct_memory\n",
    "cj_mem = 1/(lj_mem*(f_p*2*np.pi)**2)\n",
    "#ct_mem = 8.358e-5\n",
    "ct_mem = 1e-4\n",
    "\n",
    "n_jct_ats = 5\n",
    "L_ats = 4\n",
    "lj_ats = L_ats/n_jct_ats\n",
    "cj_ats = 1/(lj_ats*(f_p*2*np.pi)**2)\n",
    "\n",
    "n_jct_buffer = 9\n",
    "L_buffer = 3.5\n",
    "lj_buf = L_buffer/n_jct_buffer\n",
    "cj_buf = 1/(lj_buf*(f_p*2*np.pi)**2)\n",
    "#ct_buf = 6.8318e-5\n",
    "ct_buf = 9.2e-5\n",
    "\n",
    "cg = 1e-9"
   ],
   "metadata": {
    "collapsed": false,
    "pycharm": {
     "name": "#%%\n"
    }
   }
  },
  {
   "cell_type": "code",
   "execution_count": 19,
   "outputs": [],
   "source": [
    "def transmission_serie(Z):\n",
    "    return np.array([[1, Z],\n",
    "                     [0, 1]])\n",
    "\n",
    "def transmission_shunt(Y):\n",
    "    return np.array([[1, 0],\n",
    "                     [Y, 1]])\n",
    "\n",
    "def transmission_line(_zl, _gamma, _n_jct):\n",
    "    return np.array([[np.cosh(1j*_gamma*_n_jct), _zl*np.sinh(1j*_gamma*_n_jct)],\n",
    "                     [1/_zl*np.sinh(1j*_gamma*_n_jct),np.cosh(1j*_gamma*_n_jct)]])\n",
    "\n",
    "def shunt_ats(_zl, _gamma, _n_jct, _y_ats):\n",
    "    y = 1/np.tanh(1j*_gamma*_n_jct)/_zl + 2*_y_ats\n",
    "    #y = np.tanh(1j*_gamma*_n_jct)/_zl + 2*_y_ats\n",
    "    return np.array([[1, 0],\n",
    "                     [y, 1]])\n",
    "\n",
    "zs = lambda _w, _lj, _cj: 1j*lj*_w/(1-_lj*_cj*_w**2)"
   ],
   "metadata": {
    "collapsed": false,
    "pycharm": {
     "name": "#%%\n"
    }
   }
  },
  {
   "cell_type": "code",
   "execution_count": 20,
   "outputs": [],
   "source": [
    "def z_in_perf(w):\n",
    "    zs_mem = 1j*L_memory*w\n",
    "    yt_mem = 1j*ct_mem*w\n",
    "    L_ats_eq = L_ats/5\n",
    "    y_ats = 1/(1j*L_ats_eq*w)\n",
    "    zs_buf = 1j*L_buffer*w\n",
    "    yt_buf = 1j*ct_buf*w\n",
    "\n",
    "    mat_sh_mem = transmission_shunt(yt_mem)\n",
    "    mat_lin_mem = transmission_serie(zs_mem)\n",
    "    mat_sh_ats = transmission_shunt(y_ats)\n",
    "    mat_lin_buf = transmission_serie(zs_buf)\n",
    "    mat_sh_buf = transmission_shunt(yt_buf)\n",
    "\n",
    "    pdt = np.array([[1],[0]])\n",
    "    for mat in [mat_sh_mem,mat_lin_mem,mat_sh_ats,mat_lin_buf,mat_sh_buf][::-1]:\n",
    "        pdt = np.dot(mat,pdt)\n",
    "\n",
    "    return np.imag(pdt[0]/pdt[1])"
   ],
   "metadata": {
    "collapsed": false,
    "pycharm": {
     "name": "#%%\n"
    }
   }
  },
  {
   "cell_type": "code",
   "execution_count": 21,
   "outputs": [],
   "source": [
    "def z_in_all_trans_continue(w):\n",
    "    yg = 1j*cg*w\n",
    "\n",
    "    zs_mem = zs(w, lj_mem, cj_mem)\n",
    "    yt_mem = 1j*ct_mem*w\n",
    "    gamma_mem = -1j*np.sqrt(zs_mem*yg)\n",
    "    zl_mem = np.sqrt(zs_mem/yg)\n",
    "\n",
    "    zs_ats = zs(w,lj_ats,cj_ats)\n",
    "    gamma_ats = -1j*np.sqrt(zs_ats*yg)\n",
    "    zl_ats = np.sqrt(zs_ats*yg)\n",
    "    y_ats = 2/(1j*L_ats*w)\n",
    "\n",
    "    zs_buf = zs(w, lj_buf, cj_buf)\n",
    "    yt_buf = 1j*ct_buf*w\n",
    "    gamma_buf = -1j*np.sqrt(zs_buf*yg)\n",
    "    zl_buf = np.sqrt(zs_buf/yg)\n",
    "\n",
    "    mat_sh_mem = transmission_shunt(yt_mem)\n",
    "    mat_lin_mem = transmission_line(zl_mem,gamma_mem,n_jct_memory)\n",
    "    mat_sh_ats = shunt_ats(zl_ats,gamma_ats,n_jct_ats,y_ats)\n",
    "    mat_lin_buf = transmission_line(zl_buf,gamma_buf,n_jct_buffer)\n",
    "    mat_sh_buf = transmission_shunt(yt_buf)\n",
    "\n",
    "    pdt = np.array([[1],[0]])\n",
    "    for mat in [mat_sh_mem,mat_lin_mem,mat_sh_ats,mat_lin_buf,mat_sh_buf][::-1]:\n",
    "        pdt = np.dot(mat,pdt)\n",
    "\n",
    "    return np.imag(pdt[0]/pdt[1])"
   ],
   "metadata": {
    "collapsed": false,
    "pycharm": {
     "name": "#%%\n"
    }
   }
  },
  {
   "cell_type": "code",
   "execution_count": 22,
   "outputs": [],
   "source": [
    "def z_in_all_trans_discret(w):\n",
    "    yg = 1j*cg*w\n",
    "\n",
    "    zs_mem = zs(w, lj_mem, cj_mem)\n",
    "    yt_mem = 1j*ct_mem*w\n",
    "    gamma_mem = np.arccos(zs_mem*yg/2+1)\n",
    "    zl_mem = np.sqrt(zs_mem/yg*np.exp(1j*gamma_mem))\n",
    "\n",
    "\n",
    "    zs_ats = zs(w,lj_ats,cj_ats)\n",
    "    gamma_ats = np.arccos(zs_ats*yg/2+1)\n",
    "    zl_ats = np.sqrt(zs_ats/yg*np.exp(1j*gamma_ats))\n",
    "    y_ats = 2/(1j*L_ats*w)\n",
    "\n",
    "    zs_buf = zs(w, lj_buf, cj_buf)\n",
    "    yt_buf = 1j*ct_buf*w\n",
    "    gamma_buf = np.arccos(zs_buf*yg/2+1)\n",
    "    zl_buf = np.sqrt(zs_buf/yg*np.exp(1j*gamma_buf))\n",
    "\n",
    "    mat_sh_mem = transmission_shunt(yt_mem)\n",
    "    mat_lin_mem = transmission_line(zl_mem,gamma_mem,n_jct_memory)\n",
    "    mat_sh_ats = shunt_ats(zl_ats,gamma_ats,n_jct_ats,y_ats)\n",
    "    mat_lin_buf = transmission_line(zl_buf,gamma_buf,n_jct_buffer)\n",
    "    mat_sh_buf = transmission_shunt(yt_buf)\n",
    "\n",
    "    pdt = np.array([[1],[0]])\n",
    "    for mat in [mat_sh_mem,mat_lin_mem,mat_sh_ats,mat_lin_buf,mat_sh_buf][::-1]:\n",
    "        pdt = np.dot(mat,pdt)\n",
    "\n",
    "    return np.imag(pdt[0]/pdt[1])"
   ],
   "metadata": {
    "collapsed": false,
    "pycharm": {
     "name": "#%%\n"
    }
   }
  },
  {
   "cell_type": "code",
   "execution_count": 23,
   "outputs": [
    {
     "name": "stderr",
     "output_type": "stream",
     "text": [
      "100%|██████████| 99998/99998 [00:13<00:00, 7536.39it/s]\n"
     ]
    }
   ],
   "source": [
    "ws = np.linspace(0,14,100000)[1:-1]*2*np.pi\n",
    "z_in_v_perf, z_in_v_cont, z_in_v_discr =[], [], []\n",
    "for w in tqdm(ws):\n",
    "    z_in_v_perf.append(z_in_perf(w))\n",
    "    z_in_v_cont.append(z_in_all_trans_continue(w))\n",
    "    z_in_v_discr.append(z_in_all_trans_discret(w))"
   ],
   "metadata": {
    "collapsed": false,
    "pycharm": {
     "name": "#%%\n"
    }
   }
  },
  {
   "cell_type": "code",
   "execution_count": 24,
   "outputs": [],
   "source": [
    "def get_poles(vals, threshold= 10):\n",
    "    vals = np.array(vals)\n",
    "    sgn_multi = np.sign(vals)\n",
    "    eigen_ind_multi = [ind for ind, test in enumerate(sgn_multi[:-1] * sgn_multi[1:] == -1) if test]\n",
    "    return [ws[ind]/2/np.pi for ind in eigen_ind_multi if abs(vals[ind-1] - vals[ind])>threshold]"
   ],
   "metadata": {
    "collapsed": false,
    "pycharm": {
     "name": "#%%\n"
    }
   }
  },
  {
   "cell_type": "code",
   "execution_count": 25,
   "outputs": [
    {
     "name": "stdout",
     "output_type": "stream",
     "text": [
      "Perfect inductances [3.99759997599976, 8.052320523205232]\n",
      "Discrete model [3.8883988839888395]\n",
      "Continuous model [3.802578025780258, 6.071860718607186]\n"
     ]
    },
    {
     "data": {
      "text/plain": "<Figure size 1152x864 with 1 Axes>",
      "image/png": "[encoded data removed]"
     },
     "metadata": {
      "needs_background": "light"
     },
     "output_type": "display_data"
    }
   ],
   "source": [
    "z_work_l = [z_in_v_perf, z_in_v_cont, z_in_v_discr]\n",
    "z_names = [\"Perfect inductances\", \"Discrete model\", \"Continuous model\"]\n",
    "\n",
    "fig,axs = plt.subplots(figsize=(16,12))\n",
    "ylim = 1e4\n",
    "for z_w, name in zip(z_work_l, z_names):\n",
    "    eigen_f_multi = get_poles(z_w)\n",
    "    print(name, eigen_f_multi)\n",
    "\n",
    "    axs.plot(ws/2/np.pi,z_w, label = name)\n",
    "    # for f in eigen_f_multi:\n",
    "    #     axs.plot([f,f],[-ylim,ylim],\"+--\",color=\"red\")\n",
    "\n",
    "axs.grid()\n",
    "axs.set_ylim([-ylim,ylim])\n",
    "plt.legend()\n",
    "plt.show()"
   ],
   "metadata": {
    "collapsed": false,
    "pycharm": {
     "name": "#%%\n"
    }
   }
  },
  {
   "cell_type": "code",
   "execution_count": null,
   "outputs": [],
   "source": [],
   "metadata": {
    "collapsed": false,
    "pycharm": {
     "name": "#%%\n"
    }
   }
  }
 ],
 "metadata": {
  "kernelspec": {
   "display_name": "Python 3",
   "language": "python",
   "name": "python3"
  },
  "language_info": {
   "codemirror_mode": {
    "name": "ipython",
    "version": 2
   },
   "file_extension": ".py",
   "mimetype": "text/x-python",
   "name": "python",
   "nbconvert_exporter": "python",
   "pygments_lexer": "ipython2",
   "version": "2.7.6"
  }
 },
 "nbformat": 4,
 "nbformat_minor": 0
}